{
  "nbformat": 4,
  "nbformat_minor": 0,
  "metadata": {
    "colab": {
      "private_outputs": true,
      "provenance": [],
      "collapsed_sections": [
        "vncDsAP0Gaoa",
        "FJNUwmbgGyua",
        "w6K7xa23Elo4",
        "yQaldy8SH6Dl",
        "mDgbUHAGgjLW",
        "O_i_v8NEhb9l",
        "HhfV-JJviCcP",
        "Y3lxredqlCYt",
        "3RnN4peoiCZX",
        "x71ZqKXriCWQ",
        "7hBIi_osiCS2",
        "JlHwYmJAmNHm",
        "35m5QtbWiB9F",
        "PoPl-ycgm1ru",
        "H0kj-8xxnORC",
        "nA9Y7ga8ng1Z",
        "PBTbrJXOngz2",
        "u3PMJOP6ngxN",
        "dauF4eBmngu3",
        "bKJF3rekwFvQ",
        "MSa1f5Uengrz",
        "GF8Ens_Soomf",
        "0wOQAZs5pc--",
        "K5QZ13OEpz2H",
        "lQ7QKXXCp7Bj",
        "448CDAPjqfQr",
        "KSlN3yHqYklG",
        "t6dVpIINYklI",
        "ijmpgYnKYklI",
        "-JiQyfWJYklI",
        "EM7whBJCYoAo",
        "fge-S5ZAYoAp",
        "85gYPyotYoAp",
        "RoGjAbkUYoAp",
        "4Of9eVA-YrdM",
        "iky9q4vBYrdO",
        "F6T5p64dYrdO",
        "y-Ehk30pYrdP",
        "bamQiAODYuh1",
        "QHF8YVU7Yuh3",
        "GwzvFGzlYuh3",
        "qYpmQ266Yuh3",
        "OH-pJp9IphqM",
        "bbFf2-_FphqN",
        "_ouA3fa0phqN",
        "Seke61FWphqN",
        "PIIx-8_IphqN",
        "t27r6nlMphqO",
        "r2jJGEOYphqO",
        "b0JNsNcRphqO",
        "BZR9WyysphqO",
        "jj7wYXLtphqO",
        "eZrbJ2SmphqO",
        "rFu4xreNphqO",
        "YJ55k-q6phqO",
        "gCFgpxoyphqP",
        "OVtJsKN_phqQ",
        "lssrdh5qphqQ",
        "U2RJ9gkRphqQ",
        "1M8mcRywphqQ",
        "tgIPom80phqQ",
        "JMzcOPDDphqR",
        "x-EpHcCOp1ci",
        "X_VqEhTip1ck",
        "8zGJKyg5p1ck",
        "PVzmfK_Ep1ck",
        "n3dbpmDWp1ck",
        "ylSl6qgtp1ck",
        "ZWILFDl5p1ck",
        "M7G43BXep1ck",
        "Ag9LCva-p1cl",
        "E6MkPsBcp1cl",
        "2cELzS2fp1cl",
        "3MPXvC8up1cl",
        "NC_X3p0fY2L0",
        "UV0SzAkaZNRQ",
        "YPEH6qLeZNRQ",
        "q29F0dvdveiT",
        "EXh0U9oCveiU",
        "22aHeOlLveiV",
        "g-ATYxFrGrvw",
        "Yfr_Vlr8HBkt",
        "8yEUt7NnHlrM",
        "tEA2Xm5dHt1r",
        "I79__PHVH19G",
        "Ou-I18pAyIpj",
        "fF3858GYyt-u",
        "4_0_7-oCpUZd",
        "hwyV_J3ipUZe",
        "3yB-zSqbpUZe",
        "dEUvejAfpUZe",
        "Fd15vwWVpUZf",
        "bn_IUdTipZyH",
        "49K5P_iCpZyH",
        "Nff-vKELpZyI",
        "kLW572S8pZyI",
        "dWbDXHzopZyI",
        "yLjJCtPM0KBk",
        "xiyOF9F70UgQ",
        "7wuGOrhz0itI",
        "id1riN9m0vUs",
        "578E2V7j08f6",
        "89xtkJwZ18nB",
        "67NQN5KX2AMe",
        "Iwf50b-R2tYG",
        "GMQiZwjn3iu7",
        "WVIkgGqN3qsr",
        "XkPnILGE3zoT",
        "Hlsf0x5436Go",
        "mT9DMSJo4nBL",
        "c49ITxTc407N",
        "OeJFEK0N496M",
        "9ExmJH0g5HBk",
        "cJNqERVU536h",
        "k5UmGsbsOxih",
        "T0VqWOYE6DLQ",
        "qBMux9mC6MCf",
        "-oLEiFgy-5Pf",
        "C74aWNz2AliB",
        "2DejudWSA-a0",
        "pEMng2IbBLp7",
        "rAdphbQ9Bhjc",
        "TNVZ9zx19K6k",
        "nqoHp30x9hH9",
        "rMDnDkt2B6du",
        "yiiVWRdJDDil",
        "1UUpS68QDMuG",
        "kexQrXU-DjzY",
        "T5CmagL3EC8N",
        "BhH2vgX9EjGr",
        "qjKvONjwE8ra",
        "P1XJ9OREExlT",
        "VFOzZv6IFROw",
        "TIqpNgepFxVj",
        "VfCC591jGiD4",
        "OB4l2ZhMeS1U",
        "ArJBuiUVfxKd",
        "4qY1EAkEfxKe",
        "PiV4Ypx8fxKe",
        "TfvqoZmBfxKf",
        "dJ2tPlVmpsJ0",
        "JWYfwnehpsJ1",
        "-jK_YjpMpsJ2",
        "HAih1iBOpsJ2",
        "zVGeBEFhpsJ2",
        "bmKjuQ-FpsJ3",
        "Fze-IPXLpx6K",
        "7AN1z2sKpx6M",
        "9PIHJqyupx6M",
        "_-qAgymDpx6N",
        "Z-hykwinpx6N",
        "h_CCil-SKHpo",
        "cBFFvTBNJzUa",
        "HvGl1hHyA_VK",
        "EyNgTHvd2WFk",
        "KH5McJBi2d8v",
        "iW_Lq9qf2h6X",
        "-Kee-DAl2viO",
        "gCX9965dhzqZ",
        "gIfDvo9L0UH2"
      ],
      "include_colab_link": true
    },
    "kernelspec": {
      "name": "python3",
      "display_name": "Python 3"
    },
    "language_info": {
      "name": "python"
    }
  },
  "cells": [
    {
      "cell_type": "markdown",
      "metadata": {
        "id": "view-in-github",
        "colab_type": "text"
      },
      "source": [
        "<a href=\"https://colab.research.google.com/github/Nischay-verma/Capstone_module_6_Yes-Bank/blob/main/Capstone_Module_6_Yes_Bank_s_Stock_Closing_Price_Prediction_by_Regression.ipynb\" target=\"_parent\"><img src=\"https://colab.research.google.com/assets/colab-badge.svg\" alt=\"Open In Colab\"/></a>"
      ]
    },
    {
      "cell_type": "markdown",
      "source": [
        "# **Project Name**    - Yes Bank Stock Closing Price Prediction\n",
        "\n"
      ],
      "metadata": {
        "id": "vncDsAP0Gaoa"
      }
    },
    {
      "cell_type": "markdown",
      "source": [
        "##### **Project Type**    - Regression\n",
        "##### **Contribution**    - Individual\n",
        "##### **Name**            - Nischay Verma"
      ],
      "metadata": {
        "id": "beRrZCGUAJYm"
      }
    },
    {
      "cell_type": "markdown",
      "source": [
        "# **Project Summary -**"
      ],
      "metadata": {
        "id": "FJNUwmbgGyua"
      }
    },
    {
      "cell_type": "markdown",
      "source": [
        "Predicting Yes Bank's stock closing price through regression entails leveraging historical data to build models that forecast future stock prices. Regression analysis, a statistical approach, uses independent variables to predict the dependent variable, which in this case is the stock price. Our approach involves developing multiple regression models to predict the closing stock price. We will evaluate these models based on various performance metrics to identify the most effective one. Additionally, we will employ methods to uncover feature importance, gaining insights into which variables have the greatest impact on predicting the closing stock price."
      ],
      "metadata": {
        "id": "F6v_1wHtG2nS"
      }
    },
    {
      "cell_type": "markdown",
      "source": [
        "# **GitHub Link -**"
      ],
      "metadata": {
        "id": "w6K7xa23Elo4"
      }
    },
    {
      "cell_type": "markdown",
      "source": [
        "GitHub Link: https://github.com/Nischay-verma/Capstone_module_6_Yes-Bank"
      ],
      "metadata": {
        "id": "h1o69JH3Eqqn"
      }
    },
    {
      "cell_type": "markdown",
      "source": [
        "# **Problem Statement**\n"
      ],
      "metadata": {
        "id": "yQaldy8SH6Dl"
      }
    },
    {
      "cell_type": "markdown",
      "source": [
        "The goal is to build a robust predictive model for Yes Bank's stock closing prices. This model will be trained on historical data and validated on separate data to ensure its accuracy in forecasting future stock prices. The aim is to develop a reliable tool that accurately anticipates fluctuations in Yes Bank's closing prices."
      ],
      "metadata": {
        "id": "DpeJGUA3kjGy"
      }
    },
    {
      "cell_type": "markdown",
      "source": [
        "# **General Guidelines** : -  "
      ],
      "metadata": {
        "id": "mDgbUHAGgjLW"
      }
    },
    {
      "cell_type": "markdown",
      "source": [
        "1.   Well-structured, formatted, and commented code is required.\n",
        "2.   Exception Handling, Production Grade Code & Deployment Ready Code will be a plus. Those students will be awarded some additional credits.\n",
        "     \n",
        "     The additional credits will have advantages over other students during Star Student selection.\n",
        "       \n",
        "             [ Note: - Deployment Ready Code is defined as, the whole .ipynb notebook should be executable in one go\n",
        "                       without a single error logged. ]\n",
        "\n",
        "3.   Each and every logic should have proper comments.\n",
        "4. You may add as many number of charts you want. Make Sure for each and every chart the following format should be answered.\n",
        "        \n",
        "\n",
        "```\n",
        "# Chart visualization code\n",
        "```\n",
        "            \n",
        "\n",
        "*   Why did you pick the specific chart?\n",
        "*   What is/are the insight(s) found from the chart?\n",
        "* Will the gained insights help creating a positive business impact?\n",
        "Are there any insights that lead to negative growth? Justify with specific reason.\n",
        "\n",
        "5. You have to create at least 15 logical & meaningful charts having important insights.\n",
        "\n",
        "\n",
        "[ Hints : - Do the Vizualization in  a structured way while following \"UBM\" Rule.\n",
        "\n",
        "U - Univariate Analysis,\n",
        "\n",
        "B - Bivariate Analysis (Numerical - Categorical, Numerical - Numerical, Categorical - Categorical)\n",
        "\n",
        "M - Multivariate Analysis\n",
        " ]\n",
        "\n",
        "\n",
        "\n",
        "\n",
        "\n",
        "6. You may add more ml algorithms for model creation. Make sure for each and every algorithm, the following format should be answered.\n",
        "\n",
        "\n",
        "*   Explain the ML Model used and it's performance using Evaluation metric Score Chart.\n",
        "\n",
        "\n",
        "*   Cross- Validation & Hyperparameter Tuning\n",
        "\n",
        "*   Have you seen any improvement? Note down the improvement with updates Evaluation metric Score Chart.\n",
        "\n",
        "*   Explain each evaluation metric's indication towards business and the business impact pf the ML model used.\n",
        "\n",
        "\n",
        "\n",
        "\n",
        "\n",
        "\n",
        "\n",
        "\n",
        "\n",
        "\n",
        "\n",
        "\n",
        "\n",
        "\n",
        "\n",
        "\n",
        "\n",
        "\n"
      ],
      "metadata": {
        "id": "ZrxVaUj-hHfC"
      }
    },
    {
      "cell_type": "markdown",
      "source": [
        "# ***Let's Begin !***"
      ],
      "metadata": {
        "id": "O_i_v8NEhb9l"
      }
    },
    {
      "cell_type": "markdown",
      "source": [
        "## ***1. Know Your Data***"
      ],
      "metadata": {
        "id": "HhfV-JJviCcP"
      }
    },
    {
      "cell_type": "markdown",
      "source": [
        "### Import Libraries"
      ],
      "metadata": {
        "id": "Y3lxredqlCYt"
      }
    },
    {
      "cell_type": "code",
      "source": [
        "# Import Libraries\n",
        "import numpy as np\n",
        "import pandas as pd\n",
        "import matplotlib.pyplot as plt\n",
        "import seaborn as sns\n",
        "from scipy import stats\n",
        "from sklearn.model_selection import train_test_split\n",
        "from sklearn.linear_model import LinearRegression\n",
        "from sklearn.metrics import mean_squared_error, mean_absolute_error, r2_score\n",
        "from math import sqrt\n",
        "import warnings\n",
        "warnings.filterwarnings('ignore')"
      ],
      "metadata": {
        "id": "OhMJ89jjD960"
      },
      "execution_count": null,
      "outputs": []
    },
    {
      "cell_type": "markdown",
      "source": [
        "### Dataset Loading"
      ],
      "metadata": {
        "id": "3RnN4peoiCZX"
      }
    },
    {
      "cell_type": "code",
      "source": [
        "# Load Dataset\n",
        "df = pd.read_csv('https://raw.githubusercontent.com/Nischay-verma/Capstone_module_6_Yes-Bank/main/data_YesBank_StockPrices.csv')\n"
      ],
      "metadata": {
        "id": "aox3vVGhEQRB"
      },
      "execution_count": null,
      "outputs": []
    },
    {
      "cell_type": "markdown",
      "source": [
        "### Dataset First View"
      ],
      "metadata": {
        "id": "x71ZqKXriCWQ"
      }
    },
    {
      "cell_type": "code",
      "source": [
        "# Dataset First Look\n",
        "df.head(10) # display first 10 row"
      ],
      "metadata": {
        "id": "xoS3EuFZEvB3"
      },
      "execution_count": null,
      "outputs": []
    },
    {
      "cell_type": "markdown",
      "source": [
        "### Dataset Rows & Columns count"
      ],
      "metadata": {
        "id": "7hBIi_osiCS2"
      }
    },
    {
      "cell_type": "code",
      "source": [
        "# Dataset Rows & Columns count\n",
        "df.shape  # (rows, columns)"
      ],
      "metadata": {
        "id": "cffFIpQTFcKB"
      },
      "execution_count": null,
      "outputs": []
    },
    {
      "cell_type": "markdown",
      "source": [
        "There are 185 rows and 5 columns in the dataset.\n"
      ],
      "metadata": {
        "id": "1H7Oll7mHRfQ"
      }
    },
    {
      "cell_type": "markdown",
      "source": [
        "### Dataset Information"
      ],
      "metadata": {
        "id": "JlHwYmJAmNHm"
      }
    },
    {
      "cell_type": "code",
      "source": [
        "# Dataset Info\n",
        "df.info() # display information about the dataset"
      ],
      "metadata": {
        "id": "e9hRXRi6meOf"
      },
      "execution_count": null,
      "outputs": []
    },
    {
      "cell_type": "markdown",
      "source": [
        "#### Duplicate Values"
      ],
      "metadata": {
        "id": "35m5QtbWiB9F"
      }
    },
    {
      "cell_type": "code",
      "source": [
        "# Dataset Duplicate Value Count\n",
        "df.duplicated().sum() # check duplicate values"
      ],
      "metadata": {
        "id": "1sLdpKYkmox0"
      },
      "execution_count": null,
      "outputs": []
    },
    {
      "cell_type": "markdown",
      "source": [
        "In the dataset, there is 0 duplicate value in it."
      ],
      "metadata": {
        "id": "UEcjGChYIlkc"
      }
    },
    {
      "cell_type": "markdown",
      "source": [
        "#### Missing Values/Null Values"
      ],
      "metadata": {
        "id": "PoPl-ycgm1ru"
      }
    },
    {
      "cell_type": "code",
      "source": [
        "# Missing Values/Null Values Count\n",
        "df.isnull().sum() # check missing values"
      ],
      "metadata": {
        "id": "GgHWkxvamxVg"
      },
      "execution_count": null,
      "outputs": []
    },
    {
      "cell_type": "code",
      "source": [
        "# Visualizing the missing values\n",
        "sns.heatmap(df.isnull())"
      ],
      "metadata": {
        "id": "3q5wnI3om9sJ"
      },
      "execution_count": null,
      "outputs": []
    },
    {
      "cell_type": "markdown",
      "source": [
        "### What did you know about your dataset?"
      ],
      "metadata": {
        "id": "H0kj-8xxnORC"
      }
    },
    {
      "cell_type": "markdown",
      "source": [
        "**Answer:**\n",
        "\n",
        "**About the dataset:**\n",
        "\n",
        "\n",
        "* This Yes Bank Stock Prices dataset contains 185 observations with 5 columns of data.\n",
        "\n",
        "* The dataset contains numerical and object data.\n",
        "\n",
        "* The dataset contains the innformation regardinng the stocks of yes bank.\n",
        "\n",
        "* This data can help us to analyze trends and patterns of Stock of Yes bank.\n",
        "\n",
        "* In the dataset there is 0 duplicate values in it.\n",
        "\n",
        "* In the dataset, there is 0 null value in it.\n"
      ],
      "metadata": {
        "id": "gfoNAAC-nUe_"
      }
    },
    {
      "cell_type": "markdown",
      "source": [
        "## ***2. Understanding Your Variables***"
      ],
      "metadata": {
        "id": "nA9Y7ga8ng1Z"
      }
    },
    {
      "cell_type": "code",
      "source": [
        "# Dataset Columns\n",
        "df.columns # display columns"
      ],
      "metadata": {
        "id": "j7xfkqrt5Ag5"
      },
      "execution_count": null,
      "outputs": []
    },
    {
      "cell_type": "code",
      "source": [
        "# Dataset Describe\n",
        "df.describe() # display statistical information about the dataset"
      ],
      "metadata": {
        "id": "DnOaZdaE5Q5t"
      },
      "execution_count": null,
      "outputs": []
    },
    {
      "cell_type": "markdown",
      "source": [
        "### Variables Description"
      ],
      "metadata": {
        "id": "PBTbrJXOngz2"
      }
    },
    {
      "cell_type": "markdown",
      "source": [
        "**Answer:**\n",
        "\n",
        "Given the variables in the dataset, we can perform various analyses to understand the relationship between the independent variables (Date, Open, High, Low) and the dependent variable (Close). Here's a breakdown of the variables:\n",
        "\n",
        "* **Date** (Independent Variable): This includes the Month and Year, which can be used to track the stock prices over time.\n",
        "* **Open** (Independent Variable): The opening stock price for the respective month.\n",
        "* **High** (Independent Variable): The highest stock price for the respective month.\n",
        "* **Low** (Independent Variable): The lowest stock price for the respective month.\n",
        "\n",
        "* **Close** (Dependent Variable): The closing stock price for the respective month."
      ],
      "metadata": {
        "id": "aJV4KIxSnxay"
      }
    },
    {
      "cell_type": "markdown",
      "source": [
        "### Check Unique Values for each variable."
      ],
      "metadata": {
        "id": "u3PMJOP6ngxN"
      }
    },
    {
      "cell_type": "code",
      "source": [
        "# Check Unique Values for each variable.\n",
        "df.nunique() # display unique values"
      ],
      "metadata": {
        "id": "QTQAiBzmAqF5"
      },
      "execution_count": null,
      "outputs": []
    },
    {
      "cell_type": "markdown",
      "source": [
        "## 3. ***Data Wrangling***"
      ],
      "metadata": {
        "id": "dauF4eBmngu3"
      }
    },
    {
      "cell_type": "markdown",
      "source": [
        "### Data Wrangling Code"
      ],
      "metadata": {
        "id": "bKJF3rekwFvQ"
      }
    },
    {
      "cell_type": "code",
      "source": [
        "# Write your code to make your dataset analysis ready.\n",
        "df[\"Date\"]=pd.to_datetime(df[\"Date\"],format='%b-%y')  # convert date column in date format\n",
        "df.set_index(\"Date\",inplace=True) # set date column as index\n",
        "df.head()\n"
      ],
      "metadata": {
        "id": "wk-9a2fpoLcV"
      },
      "execution_count": null,
      "outputs": []
    },
    {
      "cell_type": "code",
      "source": [
        "# Create a line chart for date and close\n",
        "plt.figure(figsize=(12, 6))\n",
        "plt.plot(df.index, df['Close'])\n",
        "\n",
        "# Add labels and title\n",
        "plt.xlabel('Date')\n",
        "plt.ylabel('Close Price')\n",
        "plt.title('Yes Bank Stock Closing Price Over Time')\n",
        "plt.xticks(rotation=45)\n",
        "plt.show()\n",
        "\n"
      ],
      "metadata": {
        "id": "ynVdo7a_BDQn"
      },
      "execution_count": null,
      "outputs": []
    },
    {
      "cell_type": "code",
      "source": [
        "num_cols = df.select_dtypes(include=['int64', 'float64']).columns\n",
        "num_cols"
      ],
      "metadata": {
        "id": "b09SulEmHHSs"
      },
      "execution_count": null,
      "outputs": []
    },
    {
      "cell_type": "markdown",
      "source": [
        "### What all manipulations have you done and insights you found?"
      ],
      "metadata": {
        "id": "MSa1f5Uengrz"
      }
    },
    {
      "cell_type": "markdown",
      "source": [
        "**Answer:**\n",
        "\n",
        "\n",
        "Here's a breakdown of the steps and the insights  derive from them:\n",
        "\n",
        "**Selecting Numeric Columns:**\n",
        "\n",
        "\n",
        "* It identifies the numeric columns in the dataframe. This can be useful for subsequent analysis or transformations specific to numeric data.\n",
        "\n",
        "**Converting Date Column to Datetime Format:**\n",
        "\n",
        "* Here, the \"Date\" column, initially in string format (e.g., 'Jan-20'), is converted to a datetime object. This is crucial for time series analysis.\n",
        "\n",
        "**Setting Date Column as Index:**\n",
        "\n",
        "\n",
        "* This sets the \"Date\" column as the index of the dataframe, which is a common practice for time series data to facilitate plotting and time-based operations.\n",
        "\n",
        "**Visualizing the Closing Prices:**\n",
        "\n",
        "* This code plots the closing prices of Yes Bank's stock over time. The plot provides a visual representation of how the closing prices have changed over the given period.\n",
        "\n"
      ],
      "metadata": {
        "id": "LbyXE7I1olp8"
      }
    },
    {
      "cell_type": "markdown",
      "source": [
        "## ***4. Data Vizualization, Storytelling & Experimenting with charts : Understand the relationships between variables***"
      ],
      "metadata": {
        "id": "GF8Ens_Soomf"
      }
    },
    {
      "cell_type": "markdown",
      "source": [
        "#### Chart - 1"
      ],
      "metadata": {
        "id": "0wOQAZs5pc--"
      }
    },
    {
      "cell_type": "code",
      "source": [
        "# Chart - 1 ----- Line Chart of Opening Prices Over Time\n",
        "plt.figure(figsize=(12, 6))\n",
        "plt.plot(df.index, df['Open'])\n",
        "plt.xlabel('Date')\n",
        "plt.ylabel('Open Price')\n",
        "plt.title('Yes Bank Stock Opening Price Over Time')\n",
        "plt.xticks(rotation=45)\n",
        "plt.show()\n"
      ],
      "metadata": {
        "id": "7v_ESjsspbW7"
      },
      "execution_count": null,
      "outputs": []
    },
    {
      "cell_type": "markdown",
      "source": [
        "##### 1. Why did you pick the specific chart?"
      ],
      "metadata": {
        "id": "K5QZ13OEpz2H"
      }
    },
    {
      "cell_type": "markdown",
      "source": [
        "**Answer:**\n",
        "\n",
        "The line chart of the opening prices over time was chosen because it provides a clear visual representation of how the opening price of Yes Bank's stock has changed over the given period. This type of chart is effective for identifying trends, patterns, and anomalies in time series data."
      ],
      "metadata": {
        "id": "XESiWehPqBRc"
      }
    },
    {
      "cell_type": "markdown",
      "source": [
        "##### 2. What is/are the insight(s) found from the chart?"
      ],
      "metadata": {
        "id": "lQ7QKXXCp7Bj"
      }
    },
    {
      "cell_type": "markdown",
      "source": [
        "**Answer:**\n",
        "\n",
        "The chart reveals:\n",
        "* the overall trend of the stock's opening prices,\n",
        "* identifies periods of high volatility,\n",
        "* highlights significant spikes or drops."
      ],
      "metadata": {
        "id": "C_j1G7yiqdRP"
      }
    },
    {
      "cell_type": "markdown",
      "source": [
        "##### 3. Will the gained insights help creating a positive business impact?\n",
        "Are there any insights that lead to negative growth? Justify with specific reason."
      ],
      "metadata": {
        "id": "448CDAPjqfQr"
      }
    },
    {
      "cell_type": "markdown",
      "source": [
        "**Answer:**\n",
        "\n",
        "**Positive Impact:**\n",
        "\n",
        "* aid in making informed investment decisions,\n",
        "* implementing risk management strategies,\n",
        "* guiding strategic business planning.\n",
        "\n",
        "**Negative Growth:**\n",
        "\n",
        "* high volatility can indicate decreasing investor confidence  \n",
        "* market instability,\n",
        "* potentially leading to negative growth."
      ],
      "metadata": {
        "id": "3cspy4FjqxJW"
      }
    },
    {
      "cell_type": "markdown",
      "source": [
        "#### Chart - 2"
      ],
      "metadata": {
        "id": "KSlN3yHqYklG"
      }
    },
    {
      "cell_type": "code",
      "source": [
        "# Chart - 2 ----- Line Chart of High Prices Over Time\n",
        "plt.figure(figsize=(12, 6))\n",
        "plt.plot(df.index, df['High'])\n",
        "plt.xlabel('Date')\n",
        "plt.ylabel('High Price')\n",
        "plt.title('Yes Bank Stock High Price Over Time')\n",
        "plt.xticks(rotation=45)\n",
        "plt.show()\n"
      ],
      "metadata": {
        "id": "R4YgtaqtYklH"
      },
      "execution_count": null,
      "outputs": []
    },
    {
      "cell_type": "markdown",
      "source": [
        "##### 1. Why did you pick the specific chart?"
      ],
      "metadata": {
        "id": "t6dVpIINYklI"
      }
    },
    {
      "cell_type": "markdown",
      "source": [
        "**Answer:**\n",
        "\n",
        "The line chart of high prices over time was chosen to visualize the maximum price reached by the stock each month, highlighting potential peak performance and volatility."
      ],
      "metadata": {
        "id": "5aaW0BYyYklI"
      }
    },
    {
      "cell_type": "markdown",
      "source": [
        "##### 2. What is/are the insight(s) found from the chart?"
      ],
      "metadata": {
        "id": "ijmpgYnKYklI"
      }
    },
    {
      "cell_type": "markdown",
      "source": [
        "**Answer:**\n",
        "\n",
        "The chart reveals trends:\n",
        "* In the stock's peak prices,\n",
        "* identifies periods of high volatility,\n",
        "* highlights significant price spikes that may correlate with market events."
      ],
      "metadata": {
        "id": "PSx9atu2YklI"
      }
    },
    {
      "cell_type": "markdown",
      "source": [
        "##### 3. Will the gained insights help creating a positive business impact?\n",
        "Are there any insights that lead to negative growth? Justify with specific reason."
      ],
      "metadata": {
        "id": "-JiQyfWJYklI"
      }
    },
    {
      "cell_type": "markdown",
      "source": [
        "**Answer:**\n",
        "\n",
        "**Positive Impact:** The insights can inform:\n",
        "* investment decisions,\n",
        "* risk management,\n",
        "* strategic planning,\n",
        "* aiding in capitalizing on peak performance periods.\n",
        "\n",
        "\n",
        "**Negative Growth:**\n",
        "\n",
        "* sustained declines in high prices\n",
        "* high volatility may indicate decreasing investor confidence\n",
        "* market instability, negatively impacting growth."
      ],
      "metadata": {
        "id": "BcBbebzrYklV"
      }
    },
    {
      "cell_type": "markdown",
      "source": [
        "#### Chart - 3"
      ],
      "metadata": {
        "id": "EM7whBJCYoAo"
      }
    },
    {
      "cell_type": "code",
      "source": [
        "# Chart - 3 ----- Line Chart of Low Prices Over Time\n",
        "plt.figure(figsize=(12, 6))\n",
        "plt.plot(df.index, df['Low'])\n",
        "plt.xlabel('Date')\n",
        "plt.ylabel('Low Price')\n",
        "plt.title('Yes Bank Stock Low Price Over Time')\n",
        "plt.xticks(rotation=45)\n",
        "plt.show()\n"
      ],
      "metadata": {
        "id": "t6GMdE67YoAp"
      },
      "execution_count": null,
      "outputs": []
    },
    {
      "cell_type": "markdown",
      "source": [
        "##### 1. Why did you pick the specific chart?"
      ],
      "metadata": {
        "id": "fge-S5ZAYoAp"
      }
    },
    {
      "cell_type": "markdown",
      "source": [
        "**Answer:**\n",
        "\n",
        "The line chart of low prices over time was chosen to visualize the minimum price reached by the stock each month, highlighting potential downturns and volatility."
      ],
      "metadata": {
        "id": "5dBItgRVYoAp"
      }
    },
    {
      "cell_type": "markdown",
      "source": [
        "##### 2. What is/are the insight(s) found from the chart?"
      ],
      "metadata": {
        "id": "85gYPyotYoAp"
      }
    },
    {
      "cell_type": "markdown",
      "source": [
        "**Answer:**\n",
        "\n",
        "The chart reveals:\n",
        "* trends in the stock's lowest prices,\n",
        "* identifies periods of significant decline,\n",
        "* highlights instances of increased volatility."
      ],
      "metadata": {
        "id": "4jstXR6OYoAp"
      }
    },
    {
      "cell_type": "markdown",
      "source": [
        "##### 3. Will the gained insights help creating a positive business impact?\n",
        "Are there any insights that lead to negative growth? Justify with specific reason."
      ],
      "metadata": {
        "id": "RoGjAbkUYoAp"
      }
    },
    {
      "cell_type": "markdown",
      "source": [
        "**Answer:**\n",
        "\n",
        "**Positive Impact:**\n",
        "The insights can assist:\n",
        "* identifying risk periods,\n",
        "* making informed investment decisions,\n",
        "* implementing strategies to mitigate potential downturns.\n",
        "\n",
        "**Negative Growth:**\n",
        "\n",
        "* Yes, a consistent decline in low prices or increased frequency of low price points can signal decreasing investor confidence and potential financial instability, indicating negative growth."
      ],
      "metadata": {
        "id": "zfJ8IqMcYoAp"
      }
    },
    {
      "cell_type": "markdown",
      "source": [
        "#### Chart - 4"
      ],
      "metadata": {
        "id": "4Of9eVA-YrdM"
      }
    },
    {
      "cell_type": "code",
      "source": [
        "# Chart - 4 ----- Line Chart of Closing Prices Over Time\n",
        "plt.figure(figsize=(12, 6))\n",
        "plt.plot(df.index, df['Close'])\n",
        "plt.xlabel('Date')\n",
        "plt.ylabel('Close Price')\n",
        "plt.title('Yes Bank Stock Closing Price Over Time')\n",
        "plt.xticks(rotation=45)\n",
        "plt.show()\n"
      ],
      "metadata": {
        "id": "irlUoxc8YrdO"
      },
      "execution_count": null,
      "outputs": []
    },
    {
      "cell_type": "markdown",
      "source": [
        "##### 1. Why did you pick the specific chart?"
      ],
      "metadata": {
        "id": "iky9q4vBYrdO"
      }
    },
    {
      "cell_type": "markdown",
      "source": [
        "**Answer:**\n",
        "\n",
        "The line chart of closing prices over time was chosen because it provides a comprehensive view of the stock's performance at the end of each trading period, reflecting overall market sentiment and final trading outcomes."
      ],
      "metadata": {
        "id": "aJRCwT6DYrdO"
      }
    },
    {
      "cell_type": "markdown",
      "source": [
        "##### 2. What is/are the insight(s) found from the chart?"
      ],
      "metadata": {
        "id": "F6T5p64dYrdO"
      }
    },
    {
      "cell_type": "markdown",
      "source": [
        "**Answer:**\n",
        "\n",
        "The chart shows:\n",
        "* identifies periods of consistent growth or decline, and\n",
        "* highlights significant fluctuations,\n",
        "* offering insights into the stock's market behavior over time.\n",
        "\n"
      ],
      "metadata": {
        "id": "Xx8WAJvtYrdO"
      }
    },
    {
      "cell_type": "markdown",
      "source": [
        "##### 3. Will the gained insights help creating a positive business impact?\n",
        "Are there any insights that lead to negative growth? Justify with specific reason."
      ],
      "metadata": {
        "id": "y-Ehk30pYrdP"
      }
    },
    {
      "cell_type": "markdown",
      "source": [
        "**Answer:**\n",
        "\n",
        "**Positive Impact:**\n",
        "\n",
        "Understanding trends and fluctuations in closing prices can\n",
        "* help investors make informed decisions,\n",
        "* manage risks effectively,\n",
        "* optimize trading strategies.\n",
        "\n",
        "**Negative Growth:**\n",
        "\n",
        "Persistent declines in closing prices or frequent sharp drops can\n",
        "*  indicate weakening investor confidence\n",
        "* underlying financial issues,\n",
        "* suggesting potential negative growth."
      ],
      "metadata": {
        "id": "jLNxxz7MYrdP"
      }
    },
    {
      "cell_type": "markdown",
      "source": [
        "#### Chart - 5"
      ],
      "metadata": {
        "id": "bamQiAODYuh1"
      }
    },
    {
      "cell_type": "code",
      "source": [
        "# Chart - 5 ----- Box Plot of Opening Prices\n",
        "plt.figure(figsize=(8, 6))\n",
        "sns.boxplot(data=df['Open'])\n",
        "plt.title('Box Plot of Opening Prices')\n",
        "plt.show()"
      ],
      "metadata": {
        "id": "TIJwrbroYuh3"
      },
      "execution_count": null,
      "outputs": []
    },
    {
      "cell_type": "markdown",
      "source": [
        "##### 1. Why did you pick the specific chart?"
      ],
      "metadata": {
        "id": "QHF8YVU7Yuh3"
      }
    },
    {
      "cell_type": "markdown",
      "source": [
        "**Answer:**\n",
        "\n",
        "The box plot of opening prices was chosen to summarize the distribution, central tendency, and variability of the stock's opening prices, as well as to identify any outliers."
      ],
      "metadata": {
        "id": "dcxuIMRPYuh3"
      }
    },
    {
      "cell_type": "markdown",
      "source": [
        "##### 2. What is/are the insight(s) found from the chart?"
      ],
      "metadata": {
        "id": "GwzvFGzlYuh3"
      }
    },
    {
      "cell_type": "markdown",
      "source": [
        "**Answer:**\n",
        "\n",
        "The chart reveals\n",
        "*  the range, median, quartiles, and potential outliers in the opening prices,\n",
        "* highlighting periods of stability\n",
        "* significant price changes."
      ],
      "metadata": {
        "id": "uyqkiB8YYuh3"
      }
    },
    {
      "cell_type": "markdown",
      "source": [
        "##### 3. Will the gained insights help creating a positive business impact?\n",
        "Are there any insights that lead to negative growth? Justify with specific reason."
      ],
      "metadata": {
        "id": "qYpmQ266Yuh3"
      }
    },
    {
      "cell_type": "markdown",
      "source": [
        "**Answer:**\n",
        "\n",
        "**Positive Impact:**\n",
        "\n",
        "Understanding the distribution and variability of opening prices\n",
        "* aids in making informed investment decisions\n",
        "* identifying price stability.\n",
        "\n",
        "**Negative Growth:**\n",
        "\n",
        "* The presence of frequent or extreme outliers can indicate market instability or significant negative events affecting the stock's performance."
      ],
      "metadata": {
        "id": "_WtzZ_hCYuh4"
      }
    },
    {
      "cell_type": "markdown",
      "source": [
        "#### Chart - 6"
      ],
      "metadata": {
        "id": "OH-pJp9IphqM"
      }
    },
    {
      "cell_type": "code",
      "source": [
        "# Chart - 6 ----- Box Plot of Closing Prices\n",
        "plt.figure(figsize=(8, 6))\n",
        "sns.boxplot(data=df['Close'])\n",
        "plt.title('Box Plot of Closing Prices')\n",
        "plt.show()\n"
      ],
      "metadata": {
        "id": "kuRf4wtuphqN"
      },
      "execution_count": null,
      "outputs": []
    },
    {
      "cell_type": "markdown",
      "source": [
        "##### 1. Why did you pick the specific chart?"
      ],
      "metadata": {
        "id": "bbFf2-_FphqN"
      }
    },
    {
      "cell_type": "markdown",
      "source": [
        "**Answer:**\n",
        "\n",
        "The box plot of closing prices was chosen to provide a visual summary of the distribution, central tendency, and variability of the stock's closing prices, as well as to identify any outliers."
      ],
      "metadata": {
        "id": "loh7H2nzphqN"
      }
    },
    {
      "cell_type": "markdown",
      "source": [
        "##### 2. What is/are the insight(s) found from the chart?"
      ],
      "metadata": {
        "id": "_ouA3fa0phqN"
      }
    },
    {
      "cell_type": "markdown",
      "source": [
        "**Answer:**\n",
        "\n",
        "The chart reveals\n",
        "* the range, median, quartiles, and potential outliers in the closing prices,\n",
        "\n",
        "* offering insights into the stock's overall performance and volatility."
      ],
      "metadata": {
        "id": "VECbqPI7phqN"
      }
    },
    {
      "cell_type": "markdown",
      "source": [
        "##### 3. Will the gained insights help creating a positive business impact?\n",
        "Are there any insights that lead to negative growth? Justify with specific reason."
      ],
      "metadata": {
        "id": "Seke61FWphqN"
      }
    },
    {
      "cell_type": "markdown",
      "source": [
        "**Answer:**\n",
        "\n",
        "**Positive Impact:**\n",
        "\n",
        "Understanding the distribution and variability of closing prices helps in\n",
        "*  making informed investment decisions,\n",
        "* managing risks,\n",
        "* identifying periods of price stability or volatility.\n",
        "\n",
        "**Negative Growth:**\n",
        "\n",
        " * The presence of frequent or extreme outliers in the closing prices can  indicate market instability or significant negative events affecting the stock's performance, which could deter investors and lead to negative growth."
      ],
      "metadata": {
        "id": "DW4_bGpfphqN"
      }
    },
    {
      "cell_type": "markdown",
      "source": [
        "#### Chart - 7"
      ],
      "metadata": {
        "id": "PIIx-8_IphqN"
      }
    },
    {
      "cell_type": "code",
      "source": [
        "# Chart - 7 ----- Histogram of Opening Prices\n",
        "plt.figure(figsize=(10, 6))\n",
        "plt.hist(df['Open'], bins=30, alpha=0.7)\n",
        "plt.xlabel('Open Price')\n",
        "plt.ylabel('Frequency')\n",
        "plt.title('Distribution of Opening Prices')\n",
        "plt.show()\n"
      ],
      "metadata": {
        "id": "lqAIGUfyphqO"
      },
      "execution_count": null,
      "outputs": []
    },
    {
      "cell_type": "markdown",
      "source": [
        "##### 1. Why did you pick the specific chart?"
      ],
      "metadata": {
        "id": "t27r6nlMphqO"
      }
    },
    {
      "cell_type": "markdown",
      "source": [
        "**Answer:**\n",
        "\n",
        "The histogram of opening prices was chosen to visualize the distribution of the stock's opening prices, showing how frequently different price ranges occur."
      ],
      "metadata": {
        "id": "iv6ro40sphqO"
      }
    },
    {
      "cell_type": "markdown",
      "source": [
        "##### 2. What is/are the insight(s) found from the chart?"
      ],
      "metadata": {
        "id": "r2jJGEOYphqO"
      }
    },
    {
      "cell_type": "markdown",
      "source": [
        "**Answer:**\n",
        "\n",
        "The chart provides insights:\n",
        "*  identifying common price ranges,\n",
        "* the spread of data,\n",
        "* any skewness in the distribution."
      ],
      "metadata": {
        "id": "Po6ZPi4hphqO"
      }
    },
    {
      "cell_type": "markdown",
      "source": [
        "##### 3. Will the gained insights help creating a positive business impact?\n",
        "Are there any insights that lead to negative growth? Justify with specific reason."
      ],
      "metadata": {
        "id": "b0JNsNcRphqO"
      }
    },
    {
      "cell_type": "markdown",
      "source": [
        "**Answer:**\n",
        "\n",
        "\n",
        "**Positive Impact:**\n",
        "\n",
        "Understanding the distribution of opening prices can\n",
        "* help investors identify typical price ranges\n",
        "* potential entry points,\n",
        "* aiding in better investment strategies.\n",
        "\n",
        "\n",
        "**Negative Growth:**\n",
        "\n",
        "* If the histogram reveals a skewed distribution with frequent occurrences of low opening prices, it may indicate a declining trend and reduced investor confidence, potentially leading to negative growth."
      ],
      "metadata": {
        "id": "xvSq8iUTphqO"
      }
    },
    {
      "cell_type": "markdown",
      "source": [
        "#### Chart - 8"
      ],
      "metadata": {
        "id": "BZR9WyysphqO"
      }
    },
    {
      "cell_type": "code",
      "source": [
        "# Chart - 8 ----- Histogram of Closing Prices\n",
        "plt.figure(figsize=(10, 6))\n",
        "plt.hist(df['Close'], bins=30, alpha=0.7)\n",
        "plt.xlabel('Close Price')\n",
        "plt.ylabel('Frequency')\n",
        "plt.title('Distribution of Closing Prices')\n",
        "plt.show()\n"
      ],
      "metadata": {
        "id": "TdPTWpAVphqO"
      },
      "execution_count": null,
      "outputs": []
    },
    {
      "cell_type": "markdown",
      "source": [
        "##### 1. Why did you pick the specific chart?"
      ],
      "metadata": {
        "id": "jj7wYXLtphqO"
      }
    },
    {
      "cell_type": "markdown",
      "source": [
        "**Answer:**\n",
        "\n",
        "The histogram of closing prices was chosen to visualize the distribution of the stock's closing prices, highlighting how frequently different price ranges occur."
      ],
      "metadata": {
        "id": "Ob8u6rCTphqO"
      }
    },
    {
      "cell_type": "markdown",
      "source": [
        "##### 2. What is/are the insight(s) found from the chart?"
      ],
      "metadata": {
        "id": "eZrbJ2SmphqO"
      }
    },
    {
      "cell_type": "markdown",
      "source": [
        "**Answer:**\n",
        "\n",
        "The chart provides insights into the frequency distribution of closing prices,\n",
        "* revealing common price ranges,\n",
        "* data spread,\n",
        "* any skewness in the distribution."
      ],
      "metadata": {
        "id": "mZtgC_hjphqO"
      }
    },
    {
      "cell_type": "markdown",
      "source": [
        "##### 3. Will the gained insights help creating a positive business impact?\n",
        "Are there any insights that lead to negative growth? Justify with specific reason."
      ],
      "metadata": {
        "id": "rFu4xreNphqO"
      }
    },
    {
      "cell_type": "markdown",
      "source": [
        "**Answer:**\n",
        "\n",
        "**Positive Impact:**\n",
        "\n",
        "Understanding the distribution of closing prices\n",
        "* helps investors identify typical price ranges,\n",
        "* potential exit points,\n",
        "* aiding in better investment decisions,\n",
        "* risk management.\n",
        "\n",
        "\n",
        "**Negative Growth:**\n",
        "\n",
        "* If the histogram shows frequent occurrences of low closing prices, it may indicate declining stock performance and reduced investor confidence, suggesting potential negative growth."
      ],
      "metadata": {
        "id": "ey_0qi68phqO"
      }
    },
    {
      "cell_type": "markdown",
      "source": [
        "#### Chart - 9"
      ],
      "metadata": {
        "id": "YJ55k-q6phqO"
      }
    },
    {
      "cell_type": "code",
      "source": [
        "# Chart - 9 ----- Scatter Plot of Opening vs. Closing Prices\n",
        "plt.figure(figsize=(8, 6))\n",
        "plt.scatter(df['Open'], df['Close'])\n",
        "plt.xlabel('Open Price')\n",
        "plt.ylabel('Close Price')\n",
        "plt.title('Opening vs. Closing Prices')\n",
        "plt.show()"
      ],
      "metadata": {
        "id": "B2aS4O1ophqO"
      },
      "execution_count": null,
      "outputs": []
    },
    {
      "cell_type": "markdown",
      "source": [
        "##### 1. Why did you pick the specific chart?"
      ],
      "metadata": {
        "id": "gCFgpxoyphqP"
      }
    },
    {
      "cell_type": "markdown",
      "source": [
        "**Answer:**\n",
        "\n",
        "The scatter plot of opening vs. closing prices was chosen to visualize the relationship between the stock's opening and closing prices, showing how they correlate over time."
      ],
      "metadata": {
        "id": "TVxDimi2phqP"
      }
    },
    {
      "cell_type": "markdown",
      "source": [
        "##### 2. What is/are the insight(s) found from the chart?"
      ],
      "metadata": {
        "id": "OVtJsKN_phqQ"
      }
    },
    {
      "cell_type": "markdown",
      "source": [
        "**Answer:**\n",
        "\n",
        "The chart reveals\n",
        "* the degree of correlation between opening and closing prices,\n",
        "* identifying whether they move in tandem,\n",
        "* show significant divergence,\n",
        "* highlighting any patterns or clusters."
      ],
      "metadata": {
        "id": "ngGi97qjphqQ"
      }
    },
    {
      "cell_type": "markdown",
      "source": [
        "##### 3. Will the gained insights help creating a positive business impact?\n",
        "Are there any insights that lead to negative growth? Justify with specific reason."
      ],
      "metadata": {
        "id": "lssrdh5qphqQ"
      }
    },
    {
      "cell_type": "markdown",
      "source": [
        "**Answer:**\n",
        "\n",
        "**Positive Impact:**\n",
        "\n",
        "Understanding the relationship between opening and closing prices\n",
        "* helps investors assess the consistency\n",
        "* predictability of stock performance,\n",
        "* aiding in making informed trading decisions.\n",
        "\n",
        "**Negative Growth:**\n",
        "\n",
        "* If the scatter plot shows a weak or inconsistent correlation between opening and closing prices, it may indicate market instability and unpredictability, potentially deterring investors and leading to negative growth."
      ],
      "metadata": {
        "id": "tBpY5ekJphqQ"
      }
    },
    {
      "cell_type": "markdown",
      "source": [
        "#### Chart - 10"
      ],
      "metadata": {
        "id": "U2RJ9gkRphqQ"
      }
    },
    {
      "cell_type": "code",
      "source": [
        "# Chart - 10 ----- Moving Average of Closing Prices\n",
        "\n",
        "plt.figure(figsize=(12, 6))\n",
        "plt.plot(df.index, df['Close'], label='Close')\n",
        "plt.plot(df.index, df['Close'].rolling(window=12).mean(), label='12-Month Moving Average')\n",
        "plt.xlabel('Date')\n",
        "plt.ylabel('Price')\n",
        "plt.title('12-Month Moving Average of Closing Prices')\n",
        "plt.legend()\n",
        "plt.xticks(rotation=45)\n",
        "plt.show()"
      ],
      "metadata": {
        "id": "GM7a4YP4phqQ"
      },
      "execution_count": null,
      "outputs": []
    },
    {
      "cell_type": "markdown",
      "source": [
        "##### 1. Why did you pick the specific chart?"
      ],
      "metadata": {
        "id": "1M8mcRywphqQ"
      }
    },
    {
      "cell_type": "markdown",
      "source": [
        "**Answer:**\n",
        "\n",
        "The line chart of closing prices with a 12-month moving average was chosen to smooth out short-term fluctuations and highlight long-term trends in the stock's closing prices."
      ],
      "metadata": {
        "id": "8agQvks0phqQ"
      }
    },
    {
      "cell_type": "markdown",
      "source": [
        "##### 2. What is/are the insight(s) found from the chart?"
      ],
      "metadata": {
        "id": "tgIPom80phqQ"
      }
    },
    {
      "cell_type": "markdown",
      "source": [
        "**Answer:**\n",
        "\n",
        "The chart reveals\n",
        "* long-term trends and patterns in the closing prices,\n",
        "* showing how the stock's performance evolves over time\n",
        "* helping to identify periods of sustained growth or decline.\n",
        "\n"
      ],
      "metadata": {
        "id": "Qp13pnNzphqQ"
      }
    },
    {
      "cell_type": "markdown",
      "source": [
        "##### 3. Will the gained insights help creating a positive business impact?\n",
        "Are there any insights that lead to negative growth? Justify with specific reason."
      ],
      "metadata": {
        "id": "JMzcOPDDphqR"
      }
    },
    {
      "cell_type": "markdown",
      "source": [
        "**Answer:**\n",
        "\n",
        "**Positive Impact:**\n",
        "\n",
        "Understanding long-term trends through the moving average\n",
        "* helps investors make more informed long-term investment decisions\n",
        "* identify optimal times for entry and exit.\n",
        "\n",
        "**Negative Growth:**\n",
        "\n",
        "* If the moving average shows a sustained downward trend, it indicates long-term negative performance and decreasing investor confidence, suggesting potential negative growth."
      ],
      "metadata": {
        "id": "R4Ka1PC2phqR"
      }
    },
    {
      "cell_type": "markdown",
      "source": [
        "#### Chart - 11"
      ],
      "metadata": {
        "id": "x-EpHcCOp1ci"
      }
    },
    {
      "cell_type": "code",
      "source": [
        "# Chart - 11 ----- Line Chart of High-Low Range Over Time\n",
        "plt.figure(figsize=(12, 6))\n",
        "plt.plot(df.index, df['High'] - df['Low'])\n",
        "plt.xlabel('Date')\n",
        "plt.ylabel('High-Low Range')\n",
        "plt.title('High-Low Range Over Time')\n",
        "plt.xticks(rotation=45)\n",
        "plt.show()\n"
      ],
      "metadata": {
        "id": "mAQTIvtqp1cj"
      },
      "execution_count": null,
      "outputs": []
    },
    {
      "cell_type": "markdown",
      "source": [
        "##### 1. Why did you pick the specific chart?"
      ],
      "metadata": {
        "id": "X_VqEhTip1ck"
      }
    },
    {
      "cell_type": "markdown",
      "source": [
        "**Answer:**\n",
        "\n",
        "The line chart of the high-low range over time was chosen to visualize the daily price volatility of the stock by showing the difference between the highest and lowest prices each month."
      ],
      "metadata": {
        "id": "-vsMzt_np1ck"
      }
    },
    {
      "cell_type": "markdown",
      "source": [
        "##### 2. What is/are the insight(s) found from the chart?"
      ],
      "metadata": {
        "id": "8zGJKyg5p1ck"
      }
    },
    {
      "cell_type": "markdown",
      "source": [
        "**Answer:**\n",
        "\n",
        "The chart provides\n",
        "* insights into periods of high and low volatility,\n",
        "* highlighting when the stock experienced significant price swings and when it was more stable."
      ],
      "metadata": {
        "id": "ZYdMsrqVp1ck"
      }
    },
    {
      "cell_type": "markdown",
      "source": [
        "##### 3. Will the gained insights help creating a positive business impact?\n",
        "Are there any insights that lead to negative growth? Justify with specific reason."
      ],
      "metadata": {
        "id": "PVzmfK_Ep1ck"
      }
    },
    {
      "cell_type": "markdown",
      "source": [
        "**Answer:**\n",
        "\n",
        "**Positive Impact:**\n",
        "\n",
        "Understanding the high-low range\n",
        "*  helps investors and analysts gauge market volatility,\n",
        "*  aiding in risk management\n",
        "* strategic investment decisions.\n",
        "\n",
        "**Negative Growth:**\n",
        "\n",
        "* Consistently high volatility indicated by a wide high-low range can suggest market instability and increased risk, potentially deterring investors and leading to negative growth."
      ],
      "metadata": {
        "id": "druuKYZpp1ck"
      }
    },
    {
      "cell_type": "markdown",
      "source": [
        "#### Chart - 12"
      ],
      "metadata": {
        "id": "n3dbpmDWp1ck"
      }
    },
    {
      "cell_type": "code",
      "source": [
        "# Chart - 12 ----- Visualisation of Distributed Data for Close column.\n",
        "plt.figure(figsize=(9,6))\n",
        "sns.distplot(df['Close'],color='pink')\n"
      ],
      "metadata": {
        "id": "bwevp1tKp1ck"
      },
      "execution_count": null,
      "outputs": []
    },
    {
      "cell_type": "markdown",
      "source": [
        "##### 1. Why did you pick the specific chart?"
      ],
      "metadata": {
        "id": "ylSl6qgtp1ck"
      }
    },
    {
      "cell_type": "markdown",
      "source": [
        "**Answer:**\n",
        "\n",
        "I chose a density plot (sns.distplot) because it effectively displays the distribution of the 'Close' prices in the DataFrame (df), with the added visual representation of the data's spread and central tendency."
      ],
      "metadata": {
        "id": "m2xqNkiQp1ck"
      }
    },
    {
      "cell_type": "markdown",
      "source": [
        "##### 2. What is/are the insight(s) found from the chart?"
      ],
      "metadata": {
        "id": "ZWILFDl5p1ck"
      }
    },
    {
      "cell_type": "markdown",
      "source": [
        "**Answer:**\n",
        "\n",
        "\n",
        "\n",
        "*   The insight from the chart is the shape and spread of the distribution of 'Close' prices, revealing the typical range and frequency of values.\n",
        "\n"
      ],
      "metadata": {
        "id": "x-lUsV2mp1ck"
      }
    },
    {
      "cell_type": "markdown",
      "source": [
        "##### 3. Will the gained insights help creating a positive business impact?\n",
        "Are there any insights that lead to negative growth? Justify with specific reason."
      ],
      "metadata": {
        "id": "M7G43BXep1ck"
      }
    },
    {
      "cell_type": "markdown",
      "source": [
        "**Answer:**\n",
        "\n",
        "**Positive Impact:**\n",
        "\n",
        "Understanding the distribution of 'Close' prices can\n",
        "* inform trading strategies,\n",
        "* risk management,\n",
        "* forecasting, potentially leading to positive business impacts.\n",
        "\n",
        "**Negative Growth:**\n",
        "\n",
        "* If the distribution indicates extreme volatility or instability, affecting investor confidence and market predictability."
      ],
      "metadata": {
        "id": "5wwDJXsLp1cl"
      }
    },
    {
      "cell_type": "markdown",
      "source": [
        "#### Chart - 13"
      ],
      "metadata": {
        "id": "Ag9LCva-p1cl"
      }
    },
    {
      "cell_type": "code",
      "source": [
        "# Chart - 13 ----- Line Chart of Daily Returns Over Time\n",
        "\n",
        "plt.figure(figsize=(12, 6))\n",
        "plt.plot(df.index, df['Close'].pct_change())\n",
        "plt.xlabel('Date')\n",
        "plt.ylabel('Daily Return')\n",
        "plt.title('Daily Returns Over Time')\n",
        "plt.xticks(rotation=45)\n",
        "plt.show()\n"
      ],
      "metadata": {
        "id": "EUfxeq9-p1cl"
      },
      "execution_count": null,
      "outputs": []
    },
    {
      "cell_type": "markdown",
      "source": [
        "##### 1. Why did you pick the specific chart?"
      ],
      "metadata": {
        "id": "E6MkPsBcp1cl"
      }
    },
    {
      "cell_type": "markdown",
      "source": [
        "**Answer:**\n",
        "\n",
        "I selected a line plot (plt.plot) to visualize the daily returns over time because it effectively shows the trend and fluctuations in the returns, which is crucial for analyzing investment performance.\n",
        "\n",
        "\n",
        "\n"
      ],
      "metadata": {
        "id": "V22bRsFWp1cl"
      }
    },
    {
      "cell_type": "markdown",
      "source": [
        "##### 2. What is/are the insight(s) found from the chart?"
      ],
      "metadata": {
        "id": "2cELzS2fp1cl"
      }
    },
    {
      "cell_type": "markdown",
      "source": [
        "**Answer:**\n",
        "\n",
        "Insights from the chart include\n",
        "* identifying periods of high volatility or stability in daily returns,\n",
        "* spotting trends in returns over time,\n",
        "* comparing the performance of the asset across different time periods.\n",
        "\n"
      ],
      "metadata": {
        "id": "ozQPc2_Ip1cl"
      }
    },
    {
      "cell_type": "markdown",
      "source": [
        "##### 3. Will the gained insights help creating a positive business impact?\n",
        "Are there any insights that lead to negative growth? Justify with specific reason."
      ],
      "metadata": {
        "id": "3MPXvC8up1cl"
      }
    },
    {
      "cell_type": "markdown",
      "source": [
        "**Answer:**\n",
        "\n",
        "**Positive Impacts:**\n",
        "\n",
        "Understanding the patterns and trends in daily returns can\n",
        "* aid in optimizing investment strategies,\n",
        "* risk management decisions,\n",
        "* performance evaluations,\n",
        "* potentially leading to positive business impacts.\n",
        "\n",
        "\n",
        "\n",
        "**Negative growth:**\n",
        " * If the plot shows consistent downward trends or high volatility periods with significant negative returns, indicating potential losses or instability in the investment, thereby impacting business negatively."
      ],
      "metadata": {
        "id": "GL8l1tdLp1cl"
      }
    },
    {
      "cell_type": "markdown",
      "source": [
        "#### Chart - 14 - Correlation Heatmap"
      ],
      "metadata": {
        "id": "NC_X3p0fY2L0"
      }
    },
    {
      "cell_type": "code",
      "source": [
        "# Correlation Heatmap visualization code\n",
        "plt.figure(figsize=(10, 8))\n",
        "sns.heatmap(df[num_cols].corr(), annot=True, cmap='coolwarm')\n",
        "plt.title('Correlation Heatmap')\n",
        "plt.show()"
      ],
      "metadata": {
        "id": "xyC9zolEZNRQ"
      },
      "execution_count": null,
      "outputs": []
    },
    {
      "cell_type": "markdown",
      "source": [
        "##### 1. Why did you pick the specific chart?"
      ],
      "metadata": {
        "id": "UV0SzAkaZNRQ"
      }
    },
    {
      "cell_type": "markdown",
      "source": [
        "**Answer:**\n",
        "\n",
        "I chose a heatmap (sns.heatmap) to visualize the correlation matrix of numerical columns (num_cols) in the DataFrame (df). Heatmaps are effective for quickly identifying correlations between variables, using color intensity to indicate the strength and direction of correlations.\n",
        "\n"
      ],
      "metadata": {
        "id": "DVPuT8LYZNRQ"
      }
    },
    {
      "cell_type": "markdown",
      "source": [
        "##### 2. What is/are the insight(s) found from the chart?"
      ],
      "metadata": {
        "id": "YPEH6qLeZNRQ"
      }
    },
    {
      "cell_type": "markdown",
      "source": [
        "**Answer:**\n",
        "\n",
        "Insights from the chart include:\n",
        "\n",
        "* Identifying strong positive or negative correlations between pairs of numerical variables.\n",
        "* Highlighting potential multicollinearity issues (high correlations between independent variables) which can affect model accuracy in predictive analytics.\n",
        "* Spotting variables with weak or no correlations, which may indicate independence or unrelatedness in the dataset."
      ],
      "metadata": {
        "id": "bfSqtnDqZNRR"
      }
    },
    {
      "cell_type": "markdown",
      "source": [
        "#### Chart - 15 - Pair Plot"
      ],
      "metadata": {
        "id": "q29F0dvdveiT"
      }
    },
    {
      "cell_type": "code",
      "source": [
        "# Pair Plot visualization code\n",
        "sns.pairplot(df)\n",
        "\n",
        "# Show the plot\n",
        "plt.show()"
      ],
      "metadata": {
        "id": "o58-TEIhveiU"
      },
      "execution_count": null,
      "outputs": []
    },
    {
      "cell_type": "markdown",
      "source": [
        "##### 1. Why did you pick the specific chart?"
      ],
      "metadata": {
        "id": "EXh0U9oCveiU"
      }
    },
    {
      "cell_type": "markdown",
      "source": [
        "**Answer:**\n",
        "\n",
        "I chose a pairplot (sns.pairplot) because it provides a quick and comprehensive overview of the relationships between pairs of variables in the DataFrame (df). This is especially useful for exploring potential correlations, distributions, and outliers across multiple variables simultaneously.\n",
        "\n"
      ],
      "metadata": {
        "id": "eMmPjTByveiU"
      }
    },
    {
      "cell_type": "markdown",
      "source": [
        "##### 2. What is/are the insight(s) found from the chart?"
      ],
      "metadata": {
        "id": "22aHeOlLveiV"
      }
    },
    {
      "cell_type": "markdown",
      "source": [
        "**Answer:**\n",
        "\n",
        "Insights from the pairplot include:\n",
        "\n",
        "* Scatter plots showing the relationships between each pair of variables.\n",
        "* Diagonal plots displaying the distribution of each variable.\n",
        "* Potential outliers or anomalies in the data points, which can be further investigated."
      ],
      "metadata": {
        "id": "uPQ8RGwHveiV"
      }
    },
    {
      "cell_type": "markdown",
      "source": [
        "## ***5. Hypothesis Testing***"
      ],
      "metadata": {
        "id": "g-ATYxFrGrvw"
      }
    },
    {
      "cell_type": "markdown",
      "source": [
        "### Based on your chart experiments, define three hypothetical statements from the dataset. In the next three questions, perform hypothesis testing to obtain final conclusion about the statements through your code and statistical testing."
      ],
      "metadata": {
        "id": "Yfr_Vlr8HBkt"
      }
    },
    {
      "cell_type": "markdown",
      "source": [
        "**Answer:**\n",
        "\n",
        "Certainly! Based on the dataset provided (assuming it includes features like Date, Open, High, Low, Close), here are three hypothetical statements:\n",
        "\n",
        "* **Statement 1:** The mean closing price of Yes Bank's stock is significantly different from 100.\n",
        "\n",
        "* **Statement 2:** The mean opening price of Yes Bank's stock is significantly different from 105.\n",
        "\n",
        "* **Statement 3:** The variance of Yes Bank's high prices is significantly different from 150.\n",
        "\n",
        "Let's perform hypothesis testing for each statement using appropriate statistical tests:"
      ],
      "metadata": {
        "id": "-7MS06SUHkB-"
      }
    },
    {
      "cell_type": "markdown",
      "source": [
        "### Hypothetical Statement - 1"
      ],
      "metadata": {
        "id": "8yEUt7NnHlrM"
      }
    },
    {
      "cell_type": "markdown",
      "source": [
        "#### 1. State Your research hypothesis as a null hypothesis and alternate hypothesis."
      ],
      "metadata": {
        "id": "tEA2Xm5dHt1r"
      }
    },
    {
      "cell_type": "markdown",
      "source": [
        "**Answer:**\n",
        "\n",
        "**Null Hypothesis (H0):** The mean closing price of Yes Bank's stock is equal to 100.\n",
        "\n",
        "**Alternative Hypothesis (H1):** The mean closing price of Yes Bank's stock is not equal to 100."
      ],
      "metadata": {
        "id": "HI9ZP0laH0D-"
      }
    },
    {
      "cell_type": "markdown",
      "source": [
        "#### 2. Perform an appropriate statistical test."
      ],
      "metadata": {
        "id": "I79__PHVH19G"
      }
    },
    {
      "cell_type": "code",
      "source": [
        "# Perform Statistical Test to obtain P-Value  ----- Mean Closing Price\n",
        "close_prices = df['Close']\n",
        "\n",
        "# Perform one-sample t-test\n",
        "t_statistic_close, p_value_close = stats.ttest_1samp(close_prices, 100)\n",
        "print(f\"Statement 1 - T-statistic: {t_statistic_close}, P-value: {p_value_close}\")"
      ],
      "metadata": {
        "id": "oZrfquKtyian"
      },
      "execution_count": null,
      "outputs": []
    },
    {
      "cell_type": "markdown",
      "source": [
        "##### Which statistical test have you done to obtain P-Value?"
      ],
      "metadata": {
        "id": "Ou-I18pAyIpj"
      }
    },
    {
      "cell_type": "markdown",
      "source": [
        "**Answer:**\n",
        "\n",
        "I have performed a one-sample t-test to obtain the P-value."
      ],
      "metadata": {
        "id": "s2U0kk00ygSB"
      }
    },
    {
      "cell_type": "markdown",
      "source": [
        "##### Why did you choose the specific statistical test?"
      ],
      "metadata": {
        "id": "fF3858GYyt-u"
      }
    },
    {
      "cell_type": "markdown",
      "source": [
        "**Answer:**\n",
        "\n",
        "**The one-sample t-test is chosen because:**\n",
        "\n",
        "**Sample Size:** Sufficient data on Yes Bank's closing prices allows comparison of the mean against a hypothesized value (100).\n",
        "\n",
        "**Population Standard Deviation Unknown:** T-test uses sample standard deviation, suitable when population standard deviation is unknown.\n",
        "\n",
        "**Parametric Assumptions:** Assumes data are normally distributed or sample size is large enough (Central Limit Theorem applies), making it appropriate for analyzing stock prices.\n",
        "\n",
        "**Comparing Means:** Specifically tests if the mean of a single sample differs significantly from a specified constant (100), addressing the research question on mean closing price."
      ],
      "metadata": {
        "id": "HO4K0gP5y3B4"
      }
    },
    {
      "cell_type": "markdown",
      "source": [
        "### Hypothetical Statement - 2"
      ],
      "metadata": {
        "id": "4_0_7-oCpUZd"
      }
    },
    {
      "cell_type": "markdown",
      "source": [
        "#### 1. State Your research hypothesis as a null hypothesis and alternate hypothesis."
      ],
      "metadata": {
        "id": "hwyV_J3ipUZe"
      }
    },
    {
      "cell_type": "markdown",
      "source": [
        "**Answer:**\n",
        "\n",
        "**Null Hypothesis (H0):** The mean opening price of Yes Bank's stock is equal to 105.\n",
        "\n",
        "**Alternative Hypothesis (H1):** The mean opening price of Yes Bank's stock is not equal to 105."
      ],
      "metadata": {
        "id": "FnpLGJ-4pUZe"
      }
    },
    {
      "cell_type": "markdown",
      "source": [
        "#### 2. Perform an appropriate statistical test."
      ],
      "metadata": {
        "id": "3yB-zSqbpUZe"
      }
    },
    {
      "cell_type": "code",
      "source": [
        "# Perform Statistical Test to obtain P-Value ----- Mean Opening Price\n",
        "open_prices = df['Open']\n",
        "\n",
        "# Perform one-sample t-test\n",
        "t_statistic_open, p_value_open = stats.ttest_1samp(open_prices, 105)\n",
        "print(f\"Statement 2 - T-statistic: {t_statistic_open}, P-value: {p_value_open}\")\n"
      ],
      "metadata": {
        "id": "sWxdNTXNpUZe"
      },
      "execution_count": null,
      "outputs": []
    },
    {
      "cell_type": "markdown",
      "source": [
        "##### Which statistical test have you done to obtain P-Value?"
      ],
      "metadata": {
        "id": "dEUvejAfpUZe"
      }
    },
    {
      "cell_type": "markdown",
      "source": [
        "**Answer:**\n",
        "\n",
        "I have performed a one-sample t-test to obtain the P-value."
      ],
      "metadata": {
        "id": "oLDrPz7HpUZf"
      }
    },
    {
      "cell_type": "markdown",
      "source": [
        "##### Why did you choose the specific statistical test?"
      ],
      "metadata": {
        "id": "Fd15vwWVpUZf"
      }
    },
    {
      "cell_type": "markdown",
      "source": [
        "**Answer:**\n",
        "\n",
        "**Reason for Choosing the One-Sample T-test for opening price:**\n",
        "* Sample Size: Sufficient data on Yes Bank's opening prices allows comparison of the mean against a hypothesized value (105).\n",
        "\n",
        "* Population Standard Deviation Unknown: T-test uses sample standard deviation, suitable when population standard deviation is unknown.\n",
        "\n",
        "* Parametric Assumptions: Assumes data are normally distributed or sample size is large enough (Central Limit Theorem applies), suitable for analyzing stock prices.\n",
        "\n",
        "* Comparing Means: Specifically tests if the mean of a single sample differs significantly from a specified constant (105), addressing the research question on mean opening price."
      ],
      "metadata": {
        "id": "4xOGYyiBpUZf"
      }
    },
    {
      "cell_type": "markdown",
      "source": [
        "### Hypothetical Statement - 3"
      ],
      "metadata": {
        "id": "bn_IUdTipZyH"
      }
    },
    {
      "cell_type": "markdown",
      "source": [
        "#### 1. State Your research hypothesis as a null hypothesis and alternate hypothesis."
      ],
      "metadata": {
        "id": "49K5P_iCpZyH"
      }
    },
    {
      "cell_type": "markdown",
      "source": [
        "**Answer:**\n",
        "\n",
        "**Null Hypothesis (H0):** The variance of Yes Bank's high prices is equal to 150.\n",
        "\n",
        "**Alternative Hypothesis (H1):** The variance of Yes Bank's high prices is not equal to 150."
      ],
      "metadata": {
        "id": "7gWI5rT9pZyH"
      }
    },
    {
      "cell_type": "markdown",
      "source": [
        "#### 2. Perform an appropriate statistical test."
      ],
      "metadata": {
        "id": "Nff-vKELpZyI"
      }
    },
    {
      "cell_type": "code",
      "source": [
        "# Perform Statistical Test to obtain P-Value ----- Variance of High Prices\n",
        "\n",
        "high_prices = df['High']\n",
        "\n",
        "# Perform Levene's test (assuming normal distribution for variance check)\n",
        "w_statistic_high, p_value_high = stats.levene(high_prices, np.full_like(high_prices, np.sqrt(150)))\n",
        "print(f\"Statement 3 - W-statistic: {w_statistic_high}, P-value: {p_value_high}\")\n"
      ],
      "metadata": {
        "id": "s6AnJQjtpZyI"
      },
      "execution_count": null,
      "outputs": []
    },
    {
      "cell_type": "markdown",
      "source": [
        "##### Which statistical test have you done to obtain P-Value?"
      ],
      "metadata": {
        "id": "kLW572S8pZyI"
      }
    },
    {
      "cell_type": "markdown",
      "source": [
        "**Answer:**\n",
        "\n",
        "I have performed Levene's test to obtain the P-value for the variance of high prices.\n",
        "\n"
      ],
      "metadata": {
        "id": "ytWJ8v15pZyI"
      }
    },
    {
      "cell_type": "markdown",
      "source": [
        "##### Why did you choose the specific statistical test?"
      ],
      "metadata": {
        "id": "dWbDXHzopZyI"
      }
    },
    {
      "cell_type": "markdown",
      "source": [
        "**Answer:**\n",
        "\n",
        "**Reason for Choosing Levene's Test:**\n",
        "\n",
        "* Assumption of Normality: Levene's test is robust against deviations from normality, making it suitable for testing the equality of variances even when the data may not be perfectly normally distributed.\n",
        "\n",
        "* Comparison of Variances: Levene's test specifically tests whether the variances of two or more groups (in this case, high prices) are equal or not.\n",
        "\n",
        "* Purpose: The test is chosen to assess the hypothesis about the variance of Yes Bank's high prices against a specified value (150), providing insights into the variability of high prices."
      ],
      "metadata": {
        "id": "M99G98V6pZyI"
      }
    },
    {
      "cell_type": "markdown",
      "source": [
        "## ***6. Feature Engineering & Data Pre-processing***"
      ],
      "metadata": {
        "id": "yLjJCtPM0KBk"
      }
    },
    {
      "cell_type": "markdown",
      "source": [
        "### 1. Handling Missing Values"
      ],
      "metadata": {
        "id": "xiyOF9F70UgQ"
      }
    },
    {
      "cell_type": "code",
      "source": [
        "# Handling Missing Values & Missing Value Imputation\n",
        "df.isnull().sum()\n"
      ],
      "metadata": {
        "id": "iRsAHk1K0fpS"
      },
      "execution_count": null,
      "outputs": []
    },
    {
      "cell_type": "markdown",
      "source": [
        "#### What all missing value imputation techniques have you used and why did you use those techniques?"
      ],
      "metadata": {
        "id": "7wuGOrhz0itI"
      }
    },
    {
      "cell_type": "markdown",
      "source": [
        "**Answer:**\n",
        "\n",
        "Here, we didn't have to use any missing value techniques because there is 5  columns in the dataset and there is 0 null value or missing value in it."
      ],
      "metadata": {
        "id": "1ixusLtI0pqI"
      }
    },
    {
      "cell_type": "markdown",
      "source": [
        "### 2. Handling Outliers"
      ],
      "metadata": {
        "id": "id1riN9m0vUs"
      }
    },
    {
      "cell_type": "code",
      "source": [
        "# Handling Outliers & Outlier treatments\n",
        "\n",
        "# Calculate IQR\n",
        "num_cols = ['Open', 'High', 'Low', 'Close']\n",
        "\n",
        "# Calculate the IQR for each numerical column\n",
        "Q1 = df[num_cols].quantile(0.25)\n",
        "Q3 = df[num_cols].quantile(0.75)\n",
        "IQR = Q3 - Q1\n",
        "\n",
        "# Define the lower and upper bounds for outlier detection\n",
        "lower_bound = Q1 - 1.5 * IQR\n",
        "upper_bound = Q3 + 1.5 * IQR\n",
        "\n",
        "# Replace outliers with the closest bound\n",
        "for col in num_cols:\n",
        "  df[col] = np.where(\n",
        "      (df[col] < lower_bound[col]) | (df[col] > upper_bound[col]),\n",
        "      np.nan,\n",
        "      df[col]\n",
        "  )\n",
        "\n",
        "# Impute missing values with the median\n",
        "df[num_cols] = df[num_cols].fillna(df[num_cols].median())\n",
        "\n",
        "# Print the updated DataFrame\n",
        "print(df.head())\n"
      ],
      "metadata": {
        "id": "cwfEPo94F0Yy"
      },
      "execution_count": null,
      "outputs": []
    },
    {
      "cell_type": "markdown",
      "source": [
        "##### What all outlier treatment techniques have you used and why did you use those techniques?"
      ],
      "metadata": {
        "id": "578E2V7j08f6"
      }
    },
    {
      "cell_type": "markdown",
      "source": [
        "**Answer:**\n",
        "\n",
        "\n",
        "**Interquartile Range (IQR) Method for Outlier Detection:**\n",
        "\n",
        "* **Technique:** Calculate the first quartile (Q1) and third quartile (Q3) for each numerical column. The interquartile range (IQR) is then computed as the difference between Q3 and Q1. Outliers are defined as values that fall below Q1 - 1.5 * IQR or above Q3 + 1.5 * IQR.\n",
        "* **Reason:** The IQR method is a robust technique for outlier detection as it is not influenced by extreme values. It effectively identifies outliers that are significantly lower or higher than the majority of the data.\n",
        "\n",
        "**Replacing Outliers with NaN (Not a Number):**\n",
        "\n",
        "* **Technique:** Any value identified as an outlier using the IQR method is replaced with NaN.\n",
        "* **Reason:** Replacing outliers with NaN helps in identifying and handling these values separately without removing the data points entirely. This approach ensures that the dataset size remains consistent for further processing.\n",
        "\n",
        "**Imputing Missing Values with the Median:**\n",
        "\n",
        "* **Technique:** After replacing outliers with NaN, the missing values are imputed with the median of the respective column.\n",
        "* **Reason:** Imputing with the median is a robust method, especially in the presence of outliers. The median is less sensitive to extreme values compared to the mean, providing a more accurate central tendency measure for imputation.\n"
      ],
      "metadata": {
        "id": "uGZz5OrT1HH-"
      }
    },
    {
      "cell_type": "markdown",
      "source": [
        "# 3. Data Scaling"
      ],
      "metadata": {
        "id": "BZmhTcpDZhpl"
      }
    },
    {
      "cell_type": "code",
      "source": [
        "# Separate Dependent and Independent columns\n",
        "\n",
        "X=np.log10(df.iloc[:,1:-1]) # Normalizing the data using log transformation\n",
        "\n",
        "y=np.log10(df['Close']) # Normalizing the data using log transformation"
      ],
      "metadata": {
        "id": "e6dBS2ZXZ41u"
      },
      "execution_count": null,
      "outputs": []
    },
    {
      "cell_type": "markdown",
      "source": [
        "Which method have you used to scale you data and why?"
      ],
      "metadata": {
        "id": "0bXP3aT2afp9"
      }
    },
    {
      "cell_type": "markdown",
      "source": [
        "**Answer:**\n",
        "\n",
        "Log transformation was used to scale the data because it stabilizes variance and improves normality for regression analysis."
      ],
      "metadata": {
        "id": "TLo5NrwcarCy"
      }
    },
    {
      "cell_type": "markdown",
      "source": [
        "# 4. Data Splitting"
      ],
      "metadata": {
        "id": "NI30hH5mav2O"
      }
    },
    {
      "cell_type": "code",
      "source": [
        "# splitting the dta\n",
        "X_train, X_test, y_train, y_test = train_test_split(X, y, test_size=0.2, random_state=42) # Splitting the data into training and testing sets\n",
        "\n",
        "print(X_train.shape) # shape of x_train\n",
        "print(X_test.shape) # shape of x_test\n"
      ],
      "metadata": {
        "id": "fSn9XW0cbrkk"
      },
      "execution_count": null,
      "outputs": []
    },
    {
      "cell_type": "markdown",
      "source": [
        "What data splitting ratio have you used and why?"
      ],
      "metadata": {
        "id": "tSdwU_mla1zV"
      }
    },
    {
      "cell_type": "markdown",
      "source": [
        "**Answer:**\n",
        "\n",
        " I used a 80:20 data splitting ratio (test_size=0.2) because it typically provides a good balance between having enough data for training and having enough data for testing, helping to evaluate model performance effectively without overfitting."
      ],
      "metadata": {
        "id": "dLn5qjKxa7X_"
      }
    },
    {
      "cell_type": "markdown",
      "source": [
        "### ML Model - 1 ----- Linear Regression"
      ],
      "metadata": {
        "id": "OB4l2ZhMeS1U"
      }
    },
    {
      "cell_type": "code",
      "source": [
        "# ML Model - 1 Implementation\n",
        "reg = LinearRegression()\n",
        "\n",
        "# Fit the Algorithm\n",
        "reg.fit(X_train,y_train)\n",
        "\n",
        "# Predict on the model\n",
        "y_pred = reg.predict(X_test)"
      ],
      "metadata": {
        "id": "7ebyywQieS1U"
      },
      "execution_count": null,
      "outputs": []
    },
    {
      "cell_type": "markdown",
      "source": [
        "#### 1. Explain the ML Model used and it's performance using Evaluation metric Score Chart."
      ],
      "metadata": {
        "id": "ArJBuiUVfxKd"
      }
    },
    {
      "cell_type": "code",
      "source": [
        "# Visualizing evaluation Metric Score chart\n",
        "mse=mean_squared_error(10**(y_test),10**(y_pred)) #10** to convert back log10 that we used while making it normalised\n",
        "rmse=np.sqrt(mse)\n",
        "\n",
        "r2=r2_score(10**(y_test),10**(y_pred))\n",
        "Adjusted_R2=(1-(1-r2_score(10**(y_test), 10**(y_pred)))*((X_test.shape[0]-1)/(X_test.shape[0]-X_test.shape[1]-1)))\n",
        "\n",
        "from sklearn.metrics import mean_absolute_error\n",
        "\n",
        "mae = mean_absolute_error(y_test, y_pred)\n",
        "print(\"Mean Squared Error:\", mse)\n",
        "print(\"Root Mean Squared Error:\", rmse)\n",
        "print(\"R-squared:\", r2)\n",
        "print(\"Adjusted R-squared:\", Adjusted_R2)\n",
        "print(\"Mean Absolute Error:\", mae)"
      ],
      "metadata": {
        "id": "yZkCIHGQdddX"
      },
      "execution_count": null,
      "outputs": []
    },
    {
      "cell_type": "code",
      "source": [
        "# Visualization of predicted and Actual data\n",
        "plt.figure(figsize=(8,5))\n",
        "plt.plot(10**(y_pred))\n",
        "plt.plot(np.array(10**(y_test)))\n",
        "plt.legend([\"Predicted\",\"Actual\"])\n",
        "plt.show()\n",
        "\n",
        ""
      ],
      "metadata": {
        "id": "ZPy6aDL_diQE"
      },
      "execution_count": null,
      "outputs": []
    },
    {
      "cell_type": "code",
      "source": [
        "eval = pd.DataFrame([mse,rmse,r2,Adjusted_R2,mae],columns=['Linear'],index=['MSE','RMSE','R2','Adj_R2','MAE']) # making a DataFrame for our metrics\n",
        "eval"
      ],
      "metadata": {
        "id": "l12hLFqgpEPR"
      },
      "execution_count": null,
      "outputs": []
    },
    {
      "cell_type": "markdown",
      "source": [
        "#### 2. Cross- Validation & Hyperparameter Tuning"
      ],
      "metadata": {
        "id": "4qY1EAkEfxKe"
      }
    },
    {
      "cell_type": "markdown",
      "source": [
        "##### Which hyperparameter optimization technique have you used and why?"
      ],
      "metadata": {
        "id": "PiV4Ypx8fxKe"
      }
    },
    {
      "cell_type": "markdown",
      "source": [
        "**Answer:**\n",
        "\n",
        "Here. i didn't use any hyperparameter tuning because the linear regression doesn't have one.\n"
      ],
      "metadata": {
        "id": "negyGRa7fxKf"
      }
    },
    {
      "cell_type": "markdown",
      "source": [
        "### ML Model - 2  -----  Linear Regression using Lasso Regularization."
      ],
      "metadata": {
        "id": "dJ2tPlVmpsJ0"
      }
    },
    {
      "cell_type": "code",
      "source": [
        "from sklearn.linear_model import Lasso\n",
        "# ML Model - 1 Implementation\n",
        "lasso=Lasso(alpha=0.1)\n",
        "\n",
        "# Fit the Algorithm\n",
        "lasso.fit(X_train,y_train)\n",
        "\n",
        "# Predict on the model\n",
        "y_pred_l=lasso.predict(X_test)\n",
        "\n",
        "\n"
      ],
      "metadata": {
        "id": "bGtDqzjfiWsU"
      },
      "execution_count": null,
      "outputs": []
    },
    {
      "cell_type": "markdown",
      "source": [
        "#### 1. Explain the ML Model used and it's performance using Evaluation metric Score Chart."
      ],
      "metadata": {
        "id": "JWYfwnehpsJ1"
      }
    },
    {
      "cell_type": "code",
      "source": [
        "# Visualizing evaluation Metric Score chart\n",
        "mse_l=mean_squared_error(10**(y_test),10**(y_pred_l)) #10** to convert back log10\n",
        "rmse_l=np.sqrt(mse_l)\n",
        "\n",
        "r2_l=r2_score(10**(y_test),10**(y_pred_l))\n",
        "Adjusted_R2_l=(1-(1-r2_score(10**(y_test), 10**(y_pred_l)))*((X_test.shape[0]-1)/(X_test.shape[0]-X_test.shape[1]-1)))\n",
        "\n",
        "mae_l = mean_absolute_error(y_test, y_pred_l)\n",
        "\n",
        "print(\"Mean Squared Error:\", mse_l)\n",
        "print(\"Root Mean Squared Error:\", rmse_l)\n",
        "print(\"R-squared:\", r2_l)\n",
        "print(\"Adjusted R-squared:\", Adjusted_R2_l)\n",
        "print(\"Mean Absolute Error:\", mae_l)\n"
      ],
      "metadata": {
        "id": "yEl-hgQWpsJ1"
      },
      "execution_count": null,
      "outputs": []
    },
    {
      "cell_type": "code",
      "source": [
        "eval_L = pd.DataFrame([mse_l,rmse_l,r2_l,Adjusted_R2_l,mae_l],columns=['Lasso'],index=['MSE','RMSE','R2','Adj_R2','MAE']) # making a DataFrame for our metrics\n",
        "eval_L"
      ],
      "metadata": {
        "id": "aOBeDtsVpUCL"
      },
      "execution_count": null,
      "outputs": []
    },
    {
      "cell_type": "code",
      "source": [
        "# Visualization of predicted and Actual data\n",
        "plt.figure(figsize=(8,5))\n",
        "plt.plot(10**(y_pred_l))\n",
        "plt.plot(np.array(10**(y_test)))\n",
        "plt.legend([\"Predicted\",\"Actual\"])\n",
        "plt.show()"
      ],
      "metadata": {
        "id": "z0HgT2y4eTmN"
      },
      "execution_count": null,
      "outputs": []
    },
    {
      "cell_type": "markdown",
      "source": [
        "#### 2. Cross- Validation & Hyperparameter Tuning"
      ],
      "metadata": {
        "id": "-jK_YjpMpsJ2"
      }
    },
    {
      "cell_type": "code",
      "source": [
        "# ML Model - 1 Implementation with hyperparameter optimization techniques (i.e., GridSearch CV, RandomSearch CV, Bayesian Optimization etc.)\n",
        "from sklearn.model_selection import GridSearchCV\n",
        "from sklearn.linear_model import Lasso\n",
        "\n",
        "lasso = Lasso()\n",
        "parameters = {'alpha': [1e-15,1e-13,1e-10,1e-8,1e-5,1e-4,1e-3,1e-2,1e-1,1,5,10,20,30,40,45,50,55,60,100]}\n",
        "lasso_regressor = GridSearchCV(lasso, parameters, scoring='neg_mean_squared_error', cv=3)\n",
        "\n",
        "# Fit the Algorithm\n",
        "lasso_regressor.fit(X_train, y_train)\n",
        "\n",
        "# Predict on the model\n",
        "y_pred_lcv=lasso_regressor.predict(X_test)"
      ],
      "metadata": {
        "id": "Dn0EOfS6psJ2"
      },
      "execution_count": null,
      "outputs": []
    },
    {
      "cell_type": "code",
      "source": [
        "# evaluation Metric Score chart\n",
        "mse_lcv=mean_squared_error(10**(y_test),10**(y_pred_lcv)) #10** to convert back log10\n",
        "rmse_lcv=np.sqrt(mse_lcv)\n",
        "\n",
        "r2_lcv=r2_score(10**(y_test),10**(y_pred_lcv))\n",
        "Adjusted_R2_lcv=(1-(1-r2_score(10**(y_test), 10**(y_pred_lcv)))*((X_test.shape[0]-1)/(X_test.shape[0]-X_test.shape[1]-1)))\n",
        "\n",
        "mae_lcv = mean_absolute_error(y_test, y_pred_lcv)\n",
        "\n",
        "print(\"Mean Squared Error:\", mse_lcv)\n",
        "print(\"Root Mean Squared Error:\", rmse_lcv)\n",
        "print(\"R-squared:\", r2_lcv)\n",
        "print(\"Adjusted R-squared:\", Adjusted_R2_lcv)\n",
        "print(\"Mean Absolute Error:\", mae_lcv)\n"
      ],
      "metadata": {
        "id": "Jal6xhOXejrM"
      },
      "execution_count": null,
      "outputs": []
    },
    {
      "cell_type": "code",
      "source": [
        "eval_L_GSV = pd.DataFrame([mse_lcv,rmse_lcv,r2_lcv,Adjusted_R2_lcv,mae_lcv],columns=['Lasso_Grid'],index=['MSE','RMSE','R2','Adj_R2','MAE']) # making a DataFrame for our metrics\n",
        "eval_L_GSV"
      ],
      "metadata": {
        "id": "7jhQxaI0p1vg"
      },
      "execution_count": null,
      "outputs": []
    },
    {
      "cell_type": "code",
      "source": [
        "# Visualization of predicted and Actual data\n",
        "plt.figure(figsize=(8,5))\n",
        "plt.plot(10**(y_pred_lcv))\n",
        "plt.plot(np.array(10**(y_test)))\n",
        "plt.legend([\"Predicted\",\"Actual\"])\n",
        "plt.show()"
      ],
      "metadata": {
        "id": "sSsiCbFCe_gI"
      },
      "execution_count": null,
      "outputs": []
    },
    {
      "cell_type": "markdown",
      "source": [
        "##### Which hyperparameter optimization technique have you used and why?"
      ],
      "metadata": {
        "id": "HAih1iBOpsJ2"
      }
    },
    {
      "cell_type": "markdown",
      "source": [
        "**Answer:**\n",
        "\n",
        "**GridSearchCV** is employed to find the optimal value of the regularization parameter alpha for the Lasso regression model (Lasso), which minimizes the mean squared error on the validation sets during cross-validation.\n",
        "\n",
        "**Why GridSearchCV?**\n",
        "\n",
        "* GridSearchCV exhaustively searches through a specified set of hyperparameters (alpha values in this case), evaluating each combination using cross-validation.\n",
        "*  It uses neg_mean_squared_error as the scoring metric, indicating that lower values are better, aligning with the goal of minimizing prediction errors."
      ],
      "metadata": {
        "id": "9kBgjYcdpsJ2"
      }
    },
    {
      "cell_type": "markdown",
      "source": [
        "##### Have you seen any improvement? Note down the improvement with updates Evaluation metric Score Chart."
      ],
      "metadata": {
        "id": "zVGeBEFhpsJ2"
      }
    },
    {
      "cell_type": "markdown",
      "source": [
        "**Answer:**\n",
        "\n",
        "Yes, after hyperparameter optimization using GridSearchCV, there was an improvement in model performance, reflected in reduced mean squared error (MSE), root mean squared error (RMSE), and potentially higher R-squared (R2) compared to default parameter settings."
      ],
      "metadata": {
        "id": "74yRdG6UpsJ3"
      }
    },
    {
      "cell_type": "markdown",
      "source": [
        "#### 3. Explain each evaluation metric's indication towards business and the business impact pf the ML model used."
      ],
      "metadata": {
        "id": "bmKjuQ-FpsJ3"
      }
    },
    {
      "cell_type": "markdown",
      "source": [
        "**Answer:**\n",
        "\n",
        "**Business Impact:**\n",
        "\n",
        "* Mean Squared Error and Root Mean Squared Error: These metrics quantify the average magnitude of errors, which is crucial for businesses relying on accurate predictions. For example, in finance, accurately predicting stock prices (as indicated by low RMSE) is essential for investment decisions.\n",
        "\n",
        "* R-squared and Adjusted R-squared: These metrics measure the proportion of variance explained by the model. Higher values signify better predictive capability, influencing decisions on resource allocation or risk assessment.\n",
        "\n",
        "* Mean Absolute Error: Provides a straightforward measure of prediction accuracy. In scenarios like demand forecasting, minimizing MAE ensures that production levels align closely with market needs.\n",
        "\n"
      ],
      "metadata": {
        "id": "BDKtOrBQpsJ3"
      }
    },
    {
      "cell_type": "markdown",
      "source": [
        "### ML Model - 3 ----- Linear Regression with Ridge Regularization"
      ],
      "metadata": {
        "id": "Fze-IPXLpx6K"
      }
    },
    {
      "cell_type": "code",
      "source": [
        "# ML Model - 3 Implementation\n",
        "from sklearn.linear_model import Ridge\n",
        "ridge=Ridge()\n",
        "\n",
        "# Fit the Algorithm\n",
        "ridge.fit(X_train,y_train)\n",
        "\n",
        "# Predict on the model\n",
        "y_pred_r=ridge.predict(X_test)"
      ],
      "metadata": {
        "id": "FFrSXAtrpx6M"
      },
      "execution_count": null,
      "outputs": []
    },
    {
      "cell_type": "markdown",
      "source": [
        "#### 1. Explain the ML Model used and it's performance using Evaluation metric Score Chart."
      ],
      "metadata": {
        "id": "7AN1z2sKpx6M"
      }
    },
    {
      "cell_type": "code",
      "source": [
        "# Visualizing evaluation Metric Score\n",
        "mse_r=mean_squared_error(10**(y_test),10**(y_pred_r)) #10** to convert back log10\n",
        "rmse_r=np.sqrt(mse_r)\n",
        "\n",
        "r2_r=r2_score(10**(y_test),10**(y_pred_r))\n",
        "Adjusted_R2_r=1-(1-r2_score(10**(y_test), 10**(y_pred_r)))*((X_test.shape[0]-1)/(X_test.shape[0]-X_test.shape[1]-1))\n",
        "\n",
        "from sklearn.metrics import mean_absolute_error\n",
        "\n",
        "mae_r= mean_absolute_error(y_test, y_pred_r)\n",
        "print(\"Mean Squared Error:\", mse_r)\n",
        "print(\"Root Mean Squared Error:\", rmse_r)\n",
        "print(\"R-squared:\", r2_r)\n",
        "print(\"Adjusted R-squared:\", Adjusted_R2_r)\n",
        "print(\"Mean Absolute Error:\", mae_r)"
      ],
      "metadata": {
        "id": "xIY4lxxGpx6M"
      },
      "execution_count": null,
      "outputs": []
    },
    {
      "cell_type": "code",
      "source": [
        "eval_R = pd.DataFrame([mse_r,rmse_r,r2_r,Adjusted_R2_r,mae_r],columns=['Ridge'],index=['MSE','RMSE','R2','Adj_R2','MAE']) # making a DataFrame for our metrics\n",
        "eval_R"
      ],
      "metadata": {
        "id": "vy2w5LqEqH0s"
      },
      "execution_count": null,
      "outputs": []
    },
    {
      "cell_type": "code",
      "source": [
        "# Visualization of predicted and Actual data\n",
        "plt.figure(figsize=(8,5))\n",
        "plt.plot(10**(y_pred_r))\n",
        "plt.plot(np.array(10**(y_test)))\n",
        "plt.legend([\"Predicted\",\"Actual\"])\n",
        "plt.show()"
      ],
      "metadata": {
        "id": "9aJGnWF5fmfz"
      },
      "execution_count": null,
      "outputs": []
    },
    {
      "cell_type": "markdown",
      "source": [
        "#### 2. Cross- Validation & Hyperparameter Tuning"
      ],
      "metadata": {
        "id": "9PIHJqyupx6M"
      }
    },
    {
      "cell_type": "code",
      "source": [
        "# ML Model - 3 Implementation with hyperparameter optimization techniques (i.e., GridSearch CV, RandomSearch CV, Bayesian Optimization etc.)\n",
        "parameters = {'alpha': [1e-15,1e-13,1e-10,1e-8,1e-5,1e-4,1e-3,1e-2,1e-1,1,5,10,20,30,40,45,50,55,60,100]}\n",
        "ridge_regressor=GridSearchCV(ridge,parameters,scoring='neg_mean_squared_error',cv=3)\n",
        "\n",
        "# Fit the Algorithm\n",
        "ridge_regressor.fit(X_train,y_train)\n",
        "\n",
        "# Predict on the model\n",
        "y_pred_rcv=ridge_regressor.predict(X_test)"
      ],
      "metadata": {
        "id": "eSVXuaSKpx6M"
      },
      "execution_count": null,
      "outputs": []
    },
    {
      "cell_type": "code",
      "source": [
        "# Visualizing evaluation Metric Score\n",
        "mse_rcv=mean_squared_error(10**(y_test),10**(y_pred_rcv))\n",
        "#10** to convert back log10 that we used while making it normalised\n",
        "rmse_rcv=np.sqrt(mse_rcv)\n",
        "\n",
        "r2_rcv=r2_score(10**(y_test),10**(y_pred_rcv))\n",
        "Adjusted_R2_rcv=1-(1-r2_score(10**(y_test), 10**(y_pred_rcv)))*((X_test.shape[0]-1)/(X_test.shape[0]-X_test.shape[1]-1))\n",
        "\n",
        "\n",
        "mae_rcv= mean_absolute_error(y_test, y_pred_rcv)\n",
        "print(\"Mean Squared Error:\", mse_rcv)\n",
        "print(\"Root Mean Squared Error:\", rmse_rcv)\n",
        "print(\"R-squared:\", r2_rcv)\n",
        "print(\"Adjusted R-squared:\", Adjusted_R2_rcv)\n",
        "print(\"Mean Absolute Error:\", mae_rcv)\n",
        "\n",
        "\n",
        "\n",
        ""
      ],
      "metadata": {
        "id": "n7aXmswFf4RI"
      },
      "execution_count": null,
      "outputs": []
    },
    {
      "cell_type": "code",
      "source": [
        "eval_R_GS = pd.DataFrame([mse_rcv,rmse_rcv,r2_rcv,Adjusted_R2_rcv,mae_rcv],columns=['Ridge_Grid'],index=['MSE','RMSE','R2','Adj_R2','MAE']) # making a DataFrame for our metrics\n",
        "eval_R_GS"
      ],
      "metadata": {
        "id": "JF8VmQw1qUoQ"
      },
      "execution_count": null,
      "outputs": []
    },
    {
      "cell_type": "code",
      "source": [
        "# Visualization of predicted and Actual data\n",
        "plt.figure(figsize=(8,5))\n",
        "plt.plot(10**(y_pred_rcv))\n",
        "plt.plot(np.array(10**(y_test)))\n",
        "plt.legend([\"Predicted\",\"Actual\"])\n",
        "plt.show()"
      ],
      "metadata": {
        "id": "H_Ra-OF3f9w-"
      },
      "execution_count": null,
      "outputs": []
    },
    {
      "cell_type": "markdown",
      "source": [
        "##### Which hyperparameter optimization technique have you used and why?"
      ],
      "metadata": {
        "id": "_-qAgymDpx6N"
      }
    },
    {
      "cell_type": "markdown",
      "source": [
        "**Answer:**\n",
        "\n",
        "The hyperparameter optimization technique used in the provided code snippet is GridSearchCV. GridSearchCV is chosen because it systematically searches through a predefined grid of hyperparameters (alpha values for Ridge regression in this case), evaluating each combination using cross-validation to find the optimal set of hyperparameters that minimizes the negative mean squared error (scoring='neg_mean_squared_error')."
      ],
      "metadata": {
        "id": "lQMffxkwpx6N"
      }
    },
    {
      "cell_type": "markdown",
      "source": [
        "##### Have you seen any improvement? Note down the improvement with updates Evaluation metric Score Chart."
      ],
      "metadata": {
        "id": "Z-hykwinpx6N"
      }
    },
    {
      "cell_type": "markdown",
      "source": [
        "**Answer:**\n",
        "\n",
        "Yes, after hyperparameter optimization using GridSearchCV for Ridge regression, there was a noticeable improvement in evaluation metrics such as reduced mean squared error (MSE), root mean squared error (RMSE), and potentially higher R-squared (R2) compared to default parameter settings."
      ],
      "metadata": {
        "id": "MzVzZC6opx6N"
      }
    },
    {
      "cell_type": "code",
      "source": [
        "eval = pd.concat([eval, eval_L, eval_L_GSV, eval_R, eval_R_GS], axis=1)\n",
        "eval"
      ],
      "metadata": {
        "id": "ZPNchhM9qxrz"
      },
      "execution_count": null,
      "outputs": []
    },
    {
      "cell_type": "markdown",
      "source": [
        "### 1. Which Evaluation metrics did you consider for a positive business impact and why?"
      ],
      "metadata": {
        "id": "h_CCil-SKHpo"
      }
    },
    {
      "cell_type": "markdown",
      "source": [
        "**Answer:**\n",
        "\n",
        "The evaluation metrics that are considered to have a positive business impact typically include:\n",
        "\n",
        "**Mean Squared Error (MSE) and Root Mean Squared Error (RMSE):**\n",
        "\n",
        "* These metrics indicate the average magnitude of error in predictions. Lower MSE and RMSE signify more accurate predictions, which are crucial for businesses relying on precise forecasts, such as in finance or inventory management.\n",
        "\n",
        "**R-squared (R2) and Adjusted R-squared (Adj_R2):**\n",
        "\n",
        "* R-squared measures the proportion of the variance in the dependent variable that is predictable from the independent variables. Higher R2 and Adj_R2 values (closer to 1) indicate a better fit of the model to the data. This is essential for assessing how well the model explains the variability in outcomes, which is critical in decision-making processes.\n",
        "\n",
        "**Mean Absolute Error (MAE):**\n",
        "\n",
        "* MAE provides a straightforward measure of prediction accuracy by calculating the average absolute difference between predicted and actual values. It gives a clear indication of how well the model performs in terms of absolute prediction error, which is valuable for understanding the typical magnitude of errors in real-world applications.\n",
        "\n"
      ],
      "metadata": {
        "id": "jHVz9hHDKFms"
      }
    },
    {
      "cell_type": "markdown",
      "source": [
        "### 2. Which ML model did you choose from the above created models as your final prediction model and why?"
      ],
      "metadata": {
        "id": "cBFFvTBNJzUa"
      }
    },
    {
      "cell_type": "markdown",
      "source": [
        "**Answer:**\n",
        "\n",
        "**Based on the evaluation metrics:**\n",
        "\n",
        "* Linear Regression has the lowest MSE, RMSE, and MAE, indicating it has the smallest prediction errors among the models.\n",
        "* It also has the highest R-squared (R2) and Adjusted R-squared (Adj_R2), suggesting the best fit to the data compared to Lasso and Ridge regression models.\n",
        "\n",
        "Therefore, Linear Regression would be chosen as the final prediction model due to its superior performance across all evaluated metrics in this specific comparison."
      ],
      "metadata": {
        "id": "6ksF5Q1LKTVm"
      }
    },
    {
      "cell_type": "markdown",
      "source": [
        "### 3. Explain the model which you have used and the feature importance using any model explainability tool?"
      ],
      "metadata": {
        "id": "HvGl1hHyA_VK"
      }
    },
    {
      "cell_type": "markdown",
      "source": [
        "**Answer:**\n",
        "\n",
        "we have a Linear Regression model as our final prediction model based on the previous discussion, here’s how we can explain the model and analyze feature importance:\n",
        "\n",
        "**1. Model Explanation**\n",
        "\n",
        "**Model Used: Linear Regression**\n",
        "\n",
        "**Description:**\n",
        "\n",
        "* Linear Regression models the relationship between a dependent variable (target) and one or more independent variables (features) by fitting a linear equation to observed data. It assumes a linear relationship between the features and the target variable.\n",
        "\n",
        "**Key Characteristics:**\n",
        "\n",
        "* Intercept (Bias): Represents the estimated value of the target when all independent variables are zero.\n",
        "* Coefficients (Weights): Represent the change in the target variable for a unit change in the corresponding feature, assuming all other features are held constant."
      ],
      "metadata": {
        "id": "YnvVTiIxBL-C"
      }
    },
    {
      "cell_type": "code",
      "source": [
        "model = LinearRegression()\n",
        "model.fit(X_train, y_train)"
      ],
      "metadata": {
        "id": "u6_OikUVvlXD"
      },
      "execution_count": null,
      "outputs": []
    },
    {
      "cell_type": "code",
      "source": [
        "model.coef_"
      ],
      "metadata": {
        "id": "2WNfsoGgv0FF"
      },
      "execution_count": null,
      "outputs": []
    },
    {
      "cell_type": "markdown",
      "source": [
        "## ***8.*** ***Future Work (Optional)***"
      ],
      "metadata": {
        "id": "EyNgTHvd2WFk"
      }
    },
    {
      "cell_type": "markdown",
      "source": [
        "### 1. Save the best performing ml model in a pickle file or joblib file format for deployment process.\n"
      ],
      "metadata": {
        "id": "KH5McJBi2d8v"
      }
    },
    {
      "cell_type": "code",
      "source": [
        "# Save the File\n",
        "import joblib\n",
        "joblib.dump(model, 'best_model.joblib') # saving best model in joblib file"
      ],
      "metadata": {
        "id": "bQIANRl32f4J"
      },
      "execution_count": null,
      "outputs": []
    },
    {
      "cell_type": "markdown",
      "source": [
        "### 2. Again Load the saved model file and try to predict unseen data for a sanity check.\n"
      ],
      "metadata": {
        "id": "iW_Lq9qf2h6X"
      }
    },
    {
      "cell_type": "code",
      "source": [
        "# Load the File and predict unseen data.\n",
        "model = joblib.load('best_model.joblib')\n",
        "model.predict(X_test)"
      ],
      "metadata": {
        "id": "oEXk9ydD2nVC"
      },
      "execution_count": null,
      "outputs": []
    },
    {
      "cell_type": "markdown",
      "source": [
        "### ***Congrats! Your model is successfully created and ready for deployment on a live server for a real user interaction !!!***"
      ],
      "metadata": {
        "id": "-Kee-DAl2viO"
      }
    },
    {
      "cell_type": "markdown",
      "source": [
        "# **Conclusion**"
      ],
      "metadata": {
        "id": "gCX9965dhzqZ"
      }
    },
    {
      "cell_type": "markdown",
      "source": [
        "After developing the model to predict Yes Bank's stock closing prices, we observed evidence of multicollinearity in the data. To address this issue, we explored various regularization techniques with cross-validation. Here, we find that Linear Regression has the lowest MSE, RMSE, and MAE, indicating it has the smallest prediction errors among the models.\n",
        "It also has the highest R-squared (R2) and Adjusted R-squared (Adj_R2), suggesting the best fit to the data compared to Lasso and Ridge regression models.\n"
      ],
      "metadata": {
        "id": "Fjb1IsQkh3yE"
      }
    },
    {
      "cell_type": "markdown",
      "source": [
        "### ***Hurrah! You have successfully completed your Machine Learning Capstone Project !!!***"
      ],
      "metadata": {
        "id": "gIfDvo9L0UH2"
      }
    }
  ]
}